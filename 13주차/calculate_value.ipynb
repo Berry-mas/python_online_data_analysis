{
 "cells": [
  {
   "cell_type": "code",
   "execution_count": 1,
   "id": "833f2c1f-ae63-4eb8-a6d3-272ee86f7b7b",
   "metadata": {},
   "outputs": [],
   "source": [
    "import cv2\n",
    "import numpy as np"
   ]
  },
  {
   "cell_type": "code",
   "execution_count": 2,
   "id": "b06ae2b4-722a-4dfe-a678-7da67c95a603",
   "metadata": {},
   "outputs": [],
   "source": [
    "def calculate_value(image_path):\n",
    "    # 이미지 읽기\n",
    "    image = cv2.imread(image_path)\n",
    "    \n",
    "    # Convert the image to HSV color space\n",
    "    hsv_image = cv2.cvtColor(image, cv2.COLOR_BGR2HSV)\n",
    "    \n",
    "    # Extract the V (value) channel\n",
    "    value_channel = hsv_image[:, :, 2]\n",
    "    \n",
    "    # Calculate the average value of the image\n",
    "    average_value = np.mean(value_channel)\n",
    "    print(f\"이미지의 평균 명도: {average_value}\")\n",
    "    \n",
    "    return average_value"
   ]
  },
  {
   "cell_type": "code",
   "execution_count": 4,
   "id": "c4ba5a55-f66b-41d9-880a-87581298fcac",
   "metadata": {},
   "outputs": [
    {
     "name": "stdout",
     "output_type": "stream",
     "text": [
      "이미지의 평균 명도: 200.45102831594636\n"
     ]
    },
    {
     "data": {
      "text/plain": [
       "200.45102831594636"
      ]
     },
     "execution_count": 4,
     "metadata": {},
     "output_type": "execute_result"
    }
   ],
   "source": [
    "calculate_value('test1.jfif')"
   ]
  },
  {
   "cell_type": "code",
   "execution_count": 6,
   "id": "1cee6ec6-48da-484e-a67d-2588915ae28d",
   "metadata": {},
   "outputs": [
    {
     "name": "stdout",
     "output_type": "stream",
     "text": [
      "이미지의 평균 명도: 126.0210599142106\n"
     ]
    },
    {
     "data": {
      "text/plain": [
       "126.0210599142106"
      ]
     },
     "execution_count": 6,
     "metadata": {},
     "output_type": "execute_result"
    }
   ],
   "source": [
    "calculate_value('nemo.jpg')"
   ]
  },
  {
   "cell_type": "code",
   "execution_count": null,
   "id": "ee7bf3bb-e8db-4fe2-af51-0ea51fdd29bf",
   "metadata": {},
   "outputs": [],
   "source": []
  }
 ],
 "metadata": {
  "kernelspec": {
   "display_name": "Python 3 (ipykernel)",
   "language": "python",
   "name": "python3"
  },
  "language_info": {
   "codemirror_mode": {
    "name": "ipython",
    "version": 3
   },
   "file_extension": ".py",
   "mimetype": "text/x-python",
   "name": "python",
   "nbconvert_exporter": "python",
   "pygments_lexer": "ipython3",
   "version": "3.11.7"
  }
 },
 "nbformat": 4,
 "nbformat_minor": 5
}
