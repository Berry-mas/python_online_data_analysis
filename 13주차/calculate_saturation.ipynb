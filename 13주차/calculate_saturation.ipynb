{
 "cells": [
  {
   "cell_type": "code",
   "execution_count": 1,
   "id": "77697a10-9cfb-421c-a531-23a936affdb2",
   "metadata": {},
   "outputs": [],
   "source": [
    "import cv2\n",
    "import numpy as np"
   ]
  },
  {
   "cell_type": "code",
   "execution_count": 2,
   "id": "967ababf-51c1-4237-aca3-403ca39fcf80",
   "metadata": {},
   "outputs": [],
   "source": [
    "# 이미지의 채도를 계산하는 함수\n",
    "def calculate_saturation(image_path):\n",
    "    # 이미지 읽기\n",
    "    image = cv2.imread(image_path)\n",
    "    \n",
    "    # 이미지를 HSV 색 공간으로 변환\n",
    "    hsv_image = cv2.cvtColor(image, cv2.COLOR_BGR2HSV)\n",
    "    \n",
    "    # 채도(Saturation) 채널 추출\n",
    "    saturation_channel = hsv_image[:, :, 1]\n",
    "    \n",
    "    # 채도 평균 계산\n",
    "    mean_saturation = np.mean(saturation_channel)\n",
    "    print(f\"이미지의 평균 채도: {mean_saturation}\")\n",
    "    \n",
    "    return mean_saturation\n",
    "# 이미지의 평균 채도 값을 0~255 범위로 얻을 수 있으며, 값이 높을수록 이미지가 더 채도가 높다는 것을 의미"
   ]
  },
  {
   "cell_type": "code",
   "execution_count": 3,
   "id": "999d65db-e23f-4c29-bb2a-38fc1fddf233",
   "metadata": {},
   "outputs": [
    {
     "name": "stdout",
     "output_type": "stream",
     "text": [
      "이미지의 평균 채도: 169.1923277777778\n"
     ]
    },
    {
     "data": {
      "text/plain": [
       "169.1923277777778"
      ]
     },
     "execution_count": 3,
     "metadata": {},
     "output_type": "execute_result"
    }
   ],
   "source": [
    "# 함수 실행\n",
    "calculate_saturation('saturation_high.jpg')"
   ]
  },
  {
   "cell_type": "code",
   "execution_count": 4,
   "id": "dbfda7a6-8182-481e-b567-f0599019fb57",
   "metadata": {},
   "outputs": [
    {
     "name": "stdout",
     "output_type": "stream",
     "text": [
      "이미지의 평균 채도: 0.0\n"
     ]
    },
    {
     "data": {
      "text/plain": [
       "0.0"
      ]
     },
     "execution_count": 4,
     "metadata": {},
     "output_type": "execute_result"
    }
   ],
   "source": [
    "calculate_saturation('saturation_low.jpg')"
   ]
  },
  {
   "cell_type": "code",
   "execution_count": 5,
   "id": "2606d07f-e5ad-4f1a-be01-50b3eff42e47",
   "metadata": {},
   "outputs": [
    {
     "name": "stdout",
     "output_type": "stream",
     "text": [
      "이미지의 평균 채도: 134.54067025525265\n"
     ]
    },
    {
     "data": {
      "text/plain": [
       "134.54067025525265"
      ]
     },
     "execution_count": 5,
     "metadata": {},
     "output_type": "execute_result"
    }
   ],
   "source": [
    "calculate_saturation('test.jpg')"
   ]
  },
  {
   "cell_type": "code",
   "execution_count": 6,
   "id": "e1198e49-c813-41af-b58c-8fee494a01d1",
   "metadata": {},
   "outputs": [
    {
     "name": "stdout",
     "output_type": "stream",
     "text": [
      "이미지의 평균 채도: 76.01933432687531\n"
     ]
    },
    {
     "data": {
      "text/plain": [
       "76.01933432687531"
      ]
     },
     "execution_count": 6,
     "metadata": {},
     "output_type": "execute_result"
    }
   ],
   "source": [
    "calculate_saturation('test1.jfif')"
   ]
  },
  {
   "cell_type": "code",
   "execution_count": 7,
   "id": "01c95a26-75ae-4014-a115-28def2722e7c",
   "metadata": {},
   "outputs": [
    {
     "name": "stdout",
     "output_type": "stream",
     "text": [
      "이미지의 평균 채도: 0.0\n"
     ]
    },
    {
     "data": {
      "text/plain": [
       "0.0"
      ]
     },
     "execution_count": 7,
     "metadata": {},
     "output_type": "execute_result"
    }
   ],
   "source": [
    "calculate_saturation('test2.jfif')"
   ]
  },
  {
   "cell_type": "code",
   "execution_count": null,
   "id": "5ddabf78-f312-4aaf-9b28-12b509b42ae5",
   "metadata": {},
   "outputs": [],
   "source": []
  }
 ],
 "metadata": {
  "kernelspec": {
   "display_name": "Python 3 (ipykernel)",
   "language": "python",
   "name": "python3"
  },
  "language_info": {
   "codemirror_mode": {
    "name": "ipython",
    "version": 3
   },
   "file_extension": ".py",
   "mimetype": "text/x-python",
   "name": "python",
   "nbconvert_exporter": "python",
   "pygments_lexer": "ipython3",
   "version": "3.11.7"
  }
 },
 "nbformat": 4,
 "nbformat_minor": 5
}
