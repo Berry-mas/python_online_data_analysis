{
 "cells": [
  {
   "cell_type": "markdown",
   "id": "2ef76a64-298e-4da7-b194-5692ec829dcd",
   "metadata": {},
   "source": [
    "모든 정보가 소스코드에서 다운받을 수 있는 게 아님"
   ]
  },
  {
   "cell_type": "markdown",
   "id": "b6a4854f-6dfb-4a72-a0ab-0563637a0711",
   "metadata": {},
   "source": [
    "왜 get 함수를 이용해서 다운받은 소스코드 안에 정보가 없기도 할까 (국내도서 3위 등)"
   ]
  },
  {
   "cell_type": "markdown",
   "id": "a4fe20dc-576e-4225-89e5-c4ad219f907b",
   "metadata": {},
   "source": [
    "request를 통해 다운받은 것은 브라우저가 처음 접속해서 다운받는 브라우저임. 근데 브라우저는 그 이후로도 계속 소스코드를 다운받고 있음. 즉 30~40%는 추가적인 접속을 통해 실시간으로 받고 있음. "
   ]
  },
  {
   "cell_type": "markdown",
   "id": "8ccf67a8-c219-4932-aa22-169223352455",
   "metadata": {},
   "source": [
    "파이썬을 이용해서 그 이후의 정보도 다운 받으려면 해당 웹페이지의 소스코드를 \n",
    "한번만 다운 받는 게 아니라 실시간으로 다운 받아야 함"
   ]
  },
  {
   "cell_type": "markdown",
   "id": "eea9293a-1ee1-4aff-858a-680515373859",
   "metadata": {},
   "source": [
    "이를 위해서는 selenium을 활용해야 함"
   ]
  },
  {
   "cell_type": "markdown",
   "id": "8230393a-290b-4a5d-a58a-8e19c9f46a23",
   "metadata": {},
   "source": [
    "그 이후에 태그로 찾는 건 똑같음\n",
    "똑같이 BeautifulSoup"
   ]
  },
  {
   "cell_type": "markdown",
   "id": "27c6d5c5-47bc-4dc0-b79f-15a62e2257c6",
   "metadata": {},
   "source": [
    "원래 selenium은 브라우저를 컨트롤하기 위해 만들어진 것임"
   ]
  },
  {
   "cell_type": "markdown",
   "id": "36e4aed6-d046-43f1-85f6-5c5a43d68325",
   "metadata": {},
   "source": [
    "주된 역할은 웹브라우저를 컨트롤 하는 것임. 주소창에 특정 url 주소를 입력해서 특정 웹페이지로\n",
    "혼자 알아서 접속도 가능하고, 알아서 클릭도 가능함. \n",
    "접속하고자 하는 url 주소에 알아서 접속하고 혼자 다함\n",
    "얘가 실시간으로 소스코드를 다운 받음 (여기에는 웹페이지에 있는 거의 모든 정보를 포함함"
   ]
  },
  {
   "cell_type": "markdown",
   "id": "06d6940a-ea7f-4fd8-b017-89cc9543e309",
   "metadata": {},
   "source": [
    "실시간으로 다운 받은 소스코드를 우리가 가져오면 되는 거임"
   ]
  },
  {
   "cell_type": "markdown",
   "id": "8b1b1996-7c8d-4c7f-a0f7-39042ac61cde",
   "metadata": {},
   "source": [
    "request는 더 안정적이고 빠르지만 모든 정보를 가지고 있지 않음"
   ]
  },
  {
   "cell_type": "code",
   "execution_count": null,
   "id": "bf5dd0ac-e2f9-49c1-a182-d94c021f23c5",
   "metadata": {},
   "outputs": [],
   "source": [
    "selenium은 조금 더 복잡하지만 99%의 정보를 가지고 있음"
   ]
  }
 ],
 "metadata": {
  "kernelspec": {
   "display_name": "Python 3 (ipykernel)",
   "language": "python",
   "name": "python3"
  },
  "language_info": {
   "codemirror_mode": {
    "name": "ipython",
    "version": 3
   },
   "file_extension": ".py",
   "mimetype": "text/x-python",
   "name": "python",
   "nbconvert_exporter": "python",
   "pygments_lexer": "ipython3",
   "version": "3.12.4"
  }
 },
 "nbformat": 4,
 "nbformat_minor": 5
}
