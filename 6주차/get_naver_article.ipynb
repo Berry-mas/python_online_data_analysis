{
 "cells": [
  {
   "cell_type": "code",
   "execution_count": 1,
   "metadata": {},
   "outputs": [],
   "source": [
    "import requests\n",
    "from bs4 import BeautifulSoup"
   ]
  },
  {
   "cell_type": "code",
   "execution_count": 2,
   "metadata": {},
   "outputs": [],
   "source": [
    "def get_article(url):\n",
    "    # Obtain three types of information about a news article\n",
    "    headers = {\n",
    "    'User-Agent': 'My User Agent 1.0',\n",
    "    }\n",
    "    r = requests.get(url, headers=headers)\n",
    "    soup = BeautifulSoup(r.text, 'lxml')\n",
    "    news_content = soup.find('div', attrs = {'class':'newsct_article _article_body'}).text\n",
    "#     news_content = news_content.split('{}')[1].strip()\n",
    "    return news_content.strip()"
   ]
  },
  {
   "cell_type": "code",
   "execution_count": 5,
   "metadata": {},
   "outputs": [],
   "source": [
    "url = 'https://n.news.naver.com/mnews/ranking/article/001/0014481034?ntype=RANKING'\n",
    "content = get_article('https://n.news.naver.com/mnews/article/421/0007634738')"
   ]
  },
  {
   "cell_type": "code",
   "execution_count": 6,
   "metadata": {},
   "outputs": [
    {
     "data": {
      "text/plain": [
       "'\"체제불안 시선 돌리기…도발에 대한 즉각 대응 준비돼 있다\"\\n\\n\\n\\n오전 서울 중구 서울역 대합실에서 시민들이 북한의 탄도미사일 발사 소식을 뉴스로 접하고 있다. 2024.7.1/뉴스1 ⓒ News1 임세영 기자(서울=뉴스1) 박기현 기자 = 국민의힘은 1일 새벽 북한이 탄도미사일 2발을 연이어 발사한 데 대해 \"한반도의 평화와 안전을 심각하게 위협하는 무력 도발 행위를 강력하게 규탄한다\"고 밝혔다.김혜란 대변인은 이날 논평을 통해 \"국민의힘과 정부는 한 치의 흔들림 없는 철통같은 안보태세로 그 어떤 도발에도 국민의 생명과 안전을 지켜낼 것\"이라며 이같이 말했다.김 대변인은 \"이번에 발사한 미사일로 추정되는 \\'화성-11형\\'(KN-23)은 북한이 러시아에 지원한 것으로 알려진 만큼, 이번 시험 발사가 러시아 수출용 미사일의 성능시험 목적일 가능성을 배제할 수 없다\"며 \"\\'포괄적인 전략적 동반자 관계 조약\\'을 체결한 북러 군사동맹으로 한반도의 긴장은 그 어느 때보다 높아졌다\"고 말했다.그는 \"북한 김정은 정권은 내부의 실정을 은폐하고 커지는 체제 불안 상황에서 주민들의 시선을 외부로 돌리기 위해 다양한 도발에 나서고 있고, 한편으로는 김정은 우상화 작업에도 착수한 것으로 보인다\"고도 주장했다.이어 \"우리는 북한의 저열한 도발을 지켜보고만 있지 않을 것\"이라며 \"우리 군은 북한의 도발에 즉각 대응할 만발의 준비돼 있으며 북한의 모든 행동을 예의주시하고 있음을 명심해야 할 것\"이라고 경고했다.'"
      ]
     },
     "execution_count": 6,
     "metadata": {},
     "output_type": "execute_result"
    }
   ],
   "source": [
    "content"
   ]
  },
  {
   "cell_type": "code",
   "execution_count": 5,
   "metadata": {},
   "outputs": [],
   "source": [
    "with open('naver_news1.txt','w',encoding='utf8') as f:\n",
    "    f.write(content)"
   ]
  },
  {
   "cell_type": "code",
   "execution_count": null,
   "metadata": {},
   "outputs": [],
   "source": []
  }
 ],
 "metadata": {
  "kernelspec": {
   "display_name": "Python 3 (ipykernel)",
   "language": "python",
   "name": "python3"
  },
  "language_info": {
   "codemirror_mode": {
    "name": "ipython",
    "version": 3
   },
   "file_extension": ".py",
   "mimetype": "text/x-python",
   "name": "python",
   "nbconvert_exporter": "python",
   "pygments_lexer": "ipython3",
   "version": "3.11.7"
  }
 },
 "nbformat": 4,
 "nbformat_minor": 4
}
