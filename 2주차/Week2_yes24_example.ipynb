{
 "cells": [
  {
   "cell_type": "code",
   "execution_count": 1,
   "metadata": {},
   "outputs": [],
   "source": [
    "import requests"
   ]
  },
  {
   "cell_type": "code",
   "execution_count": 2,
   "metadata": {},
   "outputs": [],
   "source": [
    "url = 'https://www.yes24.com/Product/Goods/104663596'"
   ]
  },
  {
   "cell_type": "code",
   "execution_count": 3,
   "metadata": {},
   "outputs": [],
   "source": [
    "r = requests.get(url)"
   ]
  },
  {
   "cell_type": "code",
   "execution_count": 4,
   "metadata": {},
   "outputs": [],
   "source": [
    "from bs4 import BeautifulSoup"
   ]
  },
  {
   "cell_type": "code",
   "execution_count": 5,
   "metadata": {},
   "outputs": [],
   "source": [
    "soup = BeautifulSoup(r.text, 'lxml')"
   ]
  },
  {
   "cell_type": "code",
   "execution_count": 7,
   "metadata": {},
   "outputs": [
    {
     "name": "stdout",
     "output_type": "stream",
     "text": [
      "언젠가 우리가 같은 별을 바라본다면\n"
     ]
    }
   ],
   "source": [
    "# 책 제목 정보 추출하기\n",
    "title = soup.find('meta', attrs={'name':'title'}).get('content')\n",
    "print(title)"
   ]
  },
  {
   "cell_type": "code",
   "execution_count": 9,
   "metadata": {},
   "outputs": [
    {
     "name": "stdout",
     "output_type": "stream",
     "text": [
      "차인표 저\n"
     ]
    }
   ],
   "source": [
    "# 저자 정보 추출하기\n",
    "author = soup.find('meta', attrs={'name':'author'}).get('content')\n",
    "print(author)"
   ]
  },
  {
   "cell_type": "code",
   "execution_count": 10,
   "metadata": {},
   "outputs": [
    {
     "name": "stdout",
     "output_type": "stream",
     "text": [
      "차인표\n"
     ]
    }
   ],
   "source": [
    "# 저자의 이름만을 추출하고자 하는 경우\n",
    "author = author.split()[0]\n",
    "print(author)"
   ]
  },
  {
   "cell_type": "code",
   "execution_count": 11,
   "metadata": {},
   "outputs": [
    {
     "name": "stdout",
     "output_type": "stream",
     "text": [
      "해결책\n"
     ]
    }
   ],
   "source": [
    "# 출판사 정보 추출하기\n",
    "publisher = soup.find('span', attrs={'class':'gd_pub'}).text\n",
    "print(publisher)"
   ]
  },
  {
   "cell_type": "code",
   "execution_count": 13,
   "metadata": {},
   "outputs": [
    {
     "name": "stdout",
     "output_type": "stream",
     "text": [
      "2021년 12월 15일\n"
     ]
    }
   ],
   "source": [
    "# 출판일 정보 추출하기\n",
    "pub_date = soup.find('span', attrs={'class':'gd_date'}).text\n",
    "print(pub_date)"
   ]
  },
  {
   "cell_type": "code",
   "execution_count": 15,
   "metadata": {},
   "outputs": [
    {
     "name": "stdout",
     "output_type": "stream",
     "text": [
      "9.9\n"
     ]
    }
   ],
   "source": [
    "# 평점 정보 추출하기\n",
    "rating = soup.find('em', attrs={'class':'yes_b'}).text\n",
    "print(rating)"
   ]
  },
  {
   "cell_type": "code",
   "execution_count": 17,
   "metadata": {},
   "outputs": [
    {
     "name": "stdout",
     "output_type": "stream",
     "text": [
      "10,800원\n"
     ]
    }
   ],
   "source": [
    "# 판매가 정보 추출하기\n",
    "sale_price = soup.find('span', attrs={'class':'nor_price'}).text\n",
    "print(sale_price)"
   ]
  },
  {
   "cell_type": "code",
   "execution_count": 19,
   "metadata": {},
   "outputs": [
    {
     "name": "stdout",
     "output_type": "stream",
     "text": [
      "(10% 할인)\n"
     ]
    }
   ],
   "source": [
    "# 할인율 정보 추출하기\n",
    "discount_rate = soup.find('span', attrs={'class':'goods_benefit'}).text\n",
    "print(discount_rate)"
   ]
  },
  {
   "cell_type": "code",
   "execution_count": 20,
   "metadata": {},
   "outputs": [
    {
     "name": "stdout",
     "output_type": "stream",
     "text": [
      "10%\n"
     ]
    }
   ],
   "source": [
    "discount_rate = discount_rate.strip('()').split()[0]\n",
    "print(discount_rate)"
   ]
  },
  {
   "cell_type": "code",
   "execution_count": 21,
   "metadata": {},
   "outputs": [],
   "source": [
    "# 모든 정보를 하나의 문자열 값으로 만들기\n",
    "content = ','.join([title, author, publisher, pub_date, rating, sale_price, discount_rate])"
   ]
  },
  {
   "cell_type": "code",
   "execution_count": 22,
   "metadata": {},
   "outputs": [
    {
     "data": {
      "text/plain": [
       "'언젠가 우리가 같은 별을 바라본다면,차인표,해결책,2021년 12월 15일,9.9,10,800원,10%'"
      ]
     },
     "execution_count": 22,
     "metadata": {},
     "output_type": "execute_result"
    }
   ],
   "source": [
    "content"
   ]
  },
  {
   "cell_type": "code",
   "execution_count": 23,
   "metadata": {},
   "outputs": [],
   "source": [
    "# 파일에 저장하기\n",
    "with open('yes24_results.txt', 'w', encoding='utf8') as f:\n",
    "    f.write(content+'\\n')"
   ]
  },
  {
   "cell_type": "code",
   "execution_count": null,
   "metadata": {},
   "outputs": [],
   "source": []
  }
 ],
 "metadata": {
  "kernelspec": {
   "display_name": "Python 3 (ipykernel)",
   "language": "python",
   "name": "python3"
  },
  "language_info": {
   "codemirror_mode": {
    "name": "ipython",
    "version": 3
   },
   "file_extension": ".py",
   "mimetype": "text/x-python",
   "name": "python",
   "nbconvert_exporter": "python",
   "pygments_lexer": "ipython3",
   "version": "3.12.4"
  }
 },
 "nbformat": 4,
 "nbformat_minor": 4
}
