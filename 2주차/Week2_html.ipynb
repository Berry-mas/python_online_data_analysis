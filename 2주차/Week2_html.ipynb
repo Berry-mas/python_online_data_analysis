{
 "cells": [
  {
   "cell_type": "code",
   "execution_count": 11,
   "id": "baabb0f3-556d-4d3f-a8c7-9ad89df03de4",
   "metadata": {
    "scrolled": true
   },
   "outputs": [],
   "source": [
    "with open('html_test.html', 'r', encoding = 'utf-8') as f: \n",
    "    html = f.read() "
   ]
  },
  {
   "cell_type": "markdown",
   "id": "d5c27a8d-e5e2-41e1-b859-a7c4860336aa",
   "metadata": {},
   "source": [
    "#r은 읽기모드이고, f.read()를 통해 파일을 읽어온 것임"
   ]
  },
  {
   "cell_type": "markdown",
   "id": "b178a71e-4db3-4775-aaf7-9aa9038e42d0",
   "metadata": {},
   "source": [
    "#이때 f.read는 파일의 전체 내용을 읽어오는데, 이때 전체 내용 = 소스코드"
   ]
  },
  {
   "cell_type": "markdown",
   "id": "76dd5f99-5f71-4870-8480-bc4b80e807b1",
   "metadata": {},
   "source": [
    "#읽어오는 파일은 같은 디렉토리에 있어야 함"
   ]
  },
  {
   "cell_type": "code",
   "execution_count": 74,
   "id": "41fe272b-fcf7-42d1-83f9-bfb6d2b796ac",
   "metadata": {},
   "outputs": [
    {
     "name": "stdout",
     "output_type": "stream",
     "text": [
      "﻿<html lang=\"ko\">\n",
      "\t<head>\n",
      "\t\t<title>Online Data Scraping Test</title>\n",
      "\t</head>\n",
      "\n",
      "\t<body>\n",
      "\t\t<p class=\"title\">HTML code for the lecture</p>\n",
      "\t\t<p class=\"description\">This code will be used as HTML source code for the BS lecture. For more detailed information about BS, you can click\n",
      "\t\t\t<a class=\"BS_English\" href=\"https://www.crummy.com/software/BeautifulSoup/bs4/doc/\"> BS4 for beginners</a></p>\n",
      "\t\t<p class=\"description\">한국어로 된 정보를 원한다면\n",
      "\t\t\t<a class=\"BS_Korean\" href=\"https://www.crummy.com/software/BeautifulSoup/bs4/doc.ko/\"> BS4 for beginners (한글버전)</a>을 이용하세요</p>\n",
      "\t\t<div>\n",
      "\t\t\t<p><span class=\"red_price\">35.6</span></p>\n",
      "\t\t\t<p><span class=\"blue_price\">43.2</span></p>\n",
      "\t\t\t<p><span method=\"manual\">24.3</span></p>\n",
      "\t\t</div>\n",
      "\t</body>\n",
      "</html>\n",
      "\n",
      "\n",
      "\n"
     ]
    }
   ],
   "source": [
    "print(html)"
   ]
  },
  {
   "cell_type": "code",
   "execution_count": 22,
   "id": "7bf2afd7-6149-431f-aede-1915e78d7ca0",
   "metadata": {},
   "outputs": [],
   "source": [
    "from bs4 import BeautifulSoup"
   ]
  },
  {
   "cell_type": "code",
   "execution_count": 24,
   "id": "7ef51836-9b8a-44a9-82b0-dc3507d7942c",
   "metadata": {},
   "outputs": [],
   "source": [
    "soup = BeautifulSoup(html, 'lxml')"
   ]
  },
  {
   "cell_type": "code",
   "execution_count": 28,
   "id": "c45d0b45-d697-4366-9149-77fbdf0f4155",
   "metadata": {},
   "outputs": [
    {
     "data": {
      "text/plain": [
       "<html lang=\"ko\">\n",
       "<head>\n",
       "<title>Online Data Scraping Test</title>\n",
       "</head>\n",
       "<body>\n",
       "<p class=\"title\">HTML code for the lecture</p>\n",
       "<p class=\"description\">This code will be used as HTML source code for the BS lecture. For more detailed information about BS, you can click\n",
       "\t\t\t<a class=\"BS_English\" href=\"https://www.crummy.com/software/BeautifulSoup/bs4/doc/\"> BS4 for beginners</a></p>\n",
       "<p class=\"description\">한국어로 된 정보를 원한다면\n",
       "\t\t\t<a class=\"BS_Korean\" href=\"https://www.crummy.com/software/BeautifulSoup/bs4/doc.ko/\"> BS4 for beginners (한글버전)</a>을 이용하세요</p>\n",
       "<div>\n",
       "<p><span class=\"red_price\">35.6</span></p>\n",
       "<p><span class=\"blue_price\">43.2</span></p>\n",
       "<p><span method=\"manual\">24.3</span></p>\n",
       "</div>\n",
       "</body>\n",
       "</html>"
      ]
     },
     "execution_count": 28,
     "metadata": {},
     "output_type": "execute_result"
    }
   ],
   "source": [
    "soup"
   ]
  },
  {
   "cell_type": "code",
   "execution_count": 30,
   "id": "1c01abf3-5b8f-4b20-a4d1-05f422782dd0",
   "metadata": {},
   "outputs": [
    {
     "name": "stdout",
     "output_type": "stream",
     "text": [
      "<html lang=\"ko\">\n",
      "<head>\n",
      "<title>Online Data Scraping Test</title>\n",
      "</head>\n",
      "<body>\n",
      "<p class=\"title\">HTML code for the lecture</p>\n",
      "<p class=\"description\">This code will be used as HTML source code for the BS lecture. For more detailed information about BS, you can click\n",
      "\t\t\t<a class=\"BS_English\" href=\"https://www.crummy.com/software/BeautifulSoup/bs4/doc/\"> BS4 for beginners</a></p>\n",
      "<p class=\"description\">한국어로 된 정보를 원한다면\n",
      "\t\t\t<a class=\"BS_Korean\" href=\"https://www.crummy.com/software/BeautifulSoup/bs4/doc.ko/\"> BS4 for beginners (한글버전)</a>을 이용하세요</p>\n",
      "<div>\n",
      "<p><span class=\"red_price\">35.6</span></p>\n",
      "<p><span class=\"blue_price\">43.2</span></p>\n",
      "<p><span method=\"manual\">24.3</span></p>\n",
      "</div>\n",
      "</body>\n",
      "</html>\n",
      "\n"
     ]
    }
   ],
   "source": [
    "print(soup)"
   ]
  },
  {
   "cell_type": "code",
   "execution_count": 50,
   "id": "94f840d3-4722-4c9c-8011-b00d9b7fcb6b",
   "metadata": {},
   "outputs": [
    {
     "data": {
      "text/plain": [
       "<title>Online Data Scraping Test</title>"
      ]
     },
     "execution_count": 50,
     "metadata": {},
     "output_type": "execute_result"
    }
   ],
   "source": [
    "soup.title"
   ]
  },
  {
   "cell_type": "markdown",
   "id": "6c40827d-1667-4f59-be6e-1b2a0624bad3",
   "metadata": {},
   "source": [
    "#이름을 사용한 tag 탐색은 간단하지만 치명적인 단점이 있음 "
   ]
  },
  {
   "cell_type": "markdown",
   "id": "908737ae-87a2-4596-8d99-00261f3702fc",
   "metadata": {},
   "source": [
    "#이름을 사용하여 tag를 탐색할 때의 제한점: 동일한 태그가 여러 개 있으면 원하는 요소를 찾기 어려움"
   ]
  },
  {
   "cell_type": "markdown",
   "id": "1102e528-0332-412f-9524-e9a3808ce0d1",
   "metadata": {},
   "source": [
    "#다른 방법: find(), find_all()를 사용\n",
    "#find(): 조건을 만족하는 tag들 중 첫번째로 나오는 tag 하나만 찾음\n",
    "#tag가 어떤 조건, 정보를 가지는가? -> 이름, "
   ]
  },
  {
   "cell_type": "code",
   "execution_count": 55,
   "id": "2704a722-b1b7-420f-b2b9-df133105e641",
   "metadata": {},
   "outputs": [
    {
     "data": {
      "text/plain": [
       "<title>Online Data Scraping Test</title>"
      ]
     },
     "execution_count": 55,
     "metadata": {},
     "output_type": "execute_result"
    }
   ],
   "source": [
    "soup.find('title')"
   ]
  },
  {
   "cell_type": "code",
   "execution_count": 88,
   "id": "aaa64988-6913-4104-a8b7-9b53e63334ef",
   "metadata": {},
   "outputs": [
    {
     "data": {
      "text/plain": [
       "<p class=\"title\">HTML code for the lecture</p>"
      ]
     },
     "execution_count": 88,
     "metadata": {},
     "output_type": "execute_result"
    }
   ],
   "source": [
    "soup.find('p') #p태그 여러 개 있음"
   ]
  },
  {
   "cell_type": "markdown",
   "id": "4118709a-047b-4eae-b1a3-83784c97c0e8",
   "metadata": {},
   "source": [
    "#find()는 조건으로 tag들이 갖는 추가 정보를 입력할 수 있음"
   ]
  },
  {
   "cell_type": "markdown",
   "id": "1391c026-72dc-4413-923d-8ee71f8be303",
   "metadata": {},
   "source": [
    "#이를 속성정보 (attribute)라고 부름"
   ]
  },
  {
   "cell_type": "markdown",
   "id": "a0fa4dcd-291b-4aeb-81b1-f4890d85d1ce",
   "metadata": {},
   "source": [
    "#사람도 이름 + 속성정보(나이, 성별, 키 등)를 가짐"
   ]
  },
  {
   "cell_type": "markdown",
   "id": "9c06a711-60f2-42b1-b495-8a87e7945394",
   "metadata": {},
   "source": [
    "#<>안에, 이름 정보 옆에 있는 정보가 속성정보"
   ]
  },
  {
   "cell_type": "markdown",
   "id": "79b895ac-0d43-46c2-9b11-c6f77dc26b18",
   "metadata": {},
   "source": [
    "#find() 함수에 속성정보 입력 방법"
   ]
  },
  {
   "cell_type": "markdown",
   "id": "3f106510-b7f2-485e-9e1e-d0c3dfa43f11",
   "metadata": {},
   "source": [
    "#soup.find(tan_name, attrs={'attrs_name': 'value'})"
   ]
  },
  {
   "cell_type": "markdown",
   "id": "02d8e03c-a71d-4455-9485-66d61b5e7c15",
   "metadata": {},
   "source": [
    "#키정보인 attrs_name에는 class같은 것, value에는 해당 속성의 값"
   ]
  },
  {
   "cell_type": "code",
   "execution_count": 115,
   "id": "a87cd63a-1cc3-4c62-8b16-b9476659f25f",
   "metadata": {},
   "outputs": [
    {
     "data": {
      "text/plain": [
       "<p class=\"description\">This code will be used as HTML source code for the BS lecture. For more detailed information about BS, you can click\n",
       "\t\t\t<a class=\"BS_English\" href=\"https://www.crummy.com/software/BeautifulSoup/bs4/doc/\"> BS4 for beginners</a></p>"
      ]
     },
     "execution_count": 115,
     "metadata": {},
     "output_type": "execute_result"
    }
   ],
   "source": [
    "soup.find('p', attrs={'class':'description'})"
   ]
  },
  {
   "cell_type": "code",
   "execution_count": 117,
   "id": "d811c116-8964-436b-aeb5-1719dd3244d5",
   "metadata": {},
   "outputs": [
    {
     "data": {
      "text/plain": [
       "<span method=\"manual\">24.3</span>"
      ]
     },
     "execution_count": 117,
     "metadata": {},
     "output_type": "execute_result"
    }
   ],
   "source": [
    "soup.find('span', attrs={'method':'manual'})"
   ]
  },
  {
   "cell_type": "code",
   "execution_count": 57,
   "id": "fb455b9f-cbba-4762-a48c-29102cf02c83",
   "metadata": {},
   "outputs": [
    {
     "data": {
      "text/plain": [
       "'24.3'"
      ]
     },
     "execution_count": 57,
     "metadata": {},
     "output_type": "execute_result"
    }
   ],
   "source": [
    "soup.find('span', attrs={'method':'manual'}).text"
   ]
  },
  {
   "cell_type": "markdown",
   "id": "39a84141-28d1-4fd6-af67-f37bdc89c1ef",
   "metadata": {},
   "source": [
    "#find_all(): 인자로 들어간 조건을 만족하는 모든 tag를 찾음"
   ]
  },
  {
   "cell_type": "code",
   "execution_count": 123,
   "id": "48da1cef-4ce6-4bc6-9efd-c470bc6cd29b",
   "metadata": {},
   "outputs": [
    {
     "data": {
      "text/plain": [
       "[<p class=\"title\">HTML code for the lecture</p>,\n",
       " <p class=\"description\">This code will be used as HTML source code for the BS lecture. For more detailed information about BS, you can click\n",
       " \t\t\t<a class=\"BS_English\" href=\"https://www.crummy.com/software/BeautifulSoup/bs4/doc/\"> BS4 for beginners</a></p>,\n",
       " <p class=\"description\">한국어로 된 정보를 원한다면\n",
       " \t\t\t<a class=\"BS_Korean\" href=\"https://www.crummy.com/software/BeautifulSoup/bs4/doc.ko/\"> BS4 for beginners (한글버전)</a>을 이용하세요</p>,\n",
       " <p><span class=\"red_price\">35.6</span></p>,\n",
       " <p><span class=\"blue_price\">43.2</span></p>,\n",
       " <p><span method=\"manual\">24.3</span></p>]"
      ]
     },
     "execution_count": 123,
     "metadata": {},
     "output_type": "execute_result"
    }
   ],
   "source": [
    "soup.find_all('p')\n",
    "#여러개의 원소를 가진 애들이 나오므로 인덱싱 가능"
   ]
  },
  {
   "cell_type": "code",
   "execution_count": 60,
   "id": "29a112b6-6456-4cdc-9c3a-606f1e2da079",
   "metadata": {},
   "outputs": [
    {
     "data": {
      "text/plain": [
       "<p><span method=\"manual\">24.3</span></p>"
      ]
     },
     "execution_count": 60,
     "metadata": {},
     "output_type": "execute_result"
    }
   ],
   "source": [
    "soup.find_all('p')[-1]\n",
    "#tag p 중 마지막 원소"
   ]
  },
  {
   "cell_type": "markdown",
   "id": "234e8aab-59d3-421d-9c8b-eb28187621c4",
   "metadata": {},
   "source": [
    "#속성정보의 값 자체를 추출하는 경우도 있음"
   ]
  },
  {
   "cell_type": "markdown",
   "id": "457edd2e-14da-43cb-bcd6-c144d9161c4c",
   "metadata": {},
   "source": [
    "#일단 find 등의 함수를 사용해서 tag를 찾음"
   ]
  },
  {
   "cell_type": "markdown",
   "id": "c3e882e4-7197-4648-a2cf-2b2f2b3671e9",
   "metadata": {},
   "source": [
    "#근데 이번에는 text가 아닌 tag가 가진 속성 정보를 추출"
   ]
  },
  {
   "cell_type": "code",
   "execution_count": 67,
   "id": "335173d5-548a-4df4-9727-d9971eeb9a4b",
   "metadata": {},
   "outputs": [
    {
     "data": {
      "text/plain": [
       "['title']"
      ]
     },
     "execution_count": 67,
     "metadata": {},
     "output_type": "execute_result"
    }
   ],
   "source": [
    "soup.p.get('class')\n",
    "#get() 함수를 활용하여 특정 속성 값을 추출"
   ]
  },
  {
   "cell_type": "markdown",
   "id": "6e1e8fb4-cd69-4775-9d7a-79a8fc00793f",
   "metadata": {},
   "source": [
    "#get() 함수를 활용하여 url을 가진 속성을 입력하면 그 정보를 추출"
   ]
  },
  {
   "cell_type": "markdown",
   "id": "902e8b70-a446-4648-b695-deb6f9369564",
   "metadata": {},
   "source": [
    "#이번에는 이름이 아닌 find를 사용하여 추가 속성을 함께 넣어야 함"
   ]
  },
  {
   "cell_type": "code",
   "execution_count": 127,
   "id": "6e795b3b-ac80-4ca0-b97d-f3007b94fd20",
   "metadata": {},
   "outputs": [
    {
     "data": {
      "text/plain": [
       "<a class=\"BS_Korean\" href=\"https://www.crummy.com/software/BeautifulSoup/bs4/doc.ko/\"> BS4 for beginners (한글버전)</a>"
      ]
     },
     "execution_count": 127,
     "metadata": {},
     "output_type": "execute_result"
    }
   ],
   "source": [
    "soup.find('a', attrs={'class':'BS_Korean'})"
   ]
  },
  {
   "cell_type": "code",
   "execution_count": 129,
   "id": "08d74f36-cbb6-46ed-bfe4-f1c49ecd53a6",
   "metadata": {},
   "outputs": [
    {
     "data": {
      "text/plain": [
       "' BS4 for beginners (한글버전)'"
      ]
     },
     "execution_count": 129,
     "metadata": {},
     "output_type": "execute_result"
    }
   ],
   "source": [
    "soup.find('a', attrs={'class':'BS_Korean'}).text"
   ]
  },
  {
   "cell_type": "code",
   "execution_count": 131,
   "id": "99cd366e-feef-4a73-b5e2-73781000c1a6",
   "metadata": {},
   "outputs": [],
   "source": [
    "#meta 태그는 사용자가 아닌 브라우저를 위한 태그임\n",
    "#챗지피티에게 물어보기"
   ]
  }
 ],
 "metadata": {
  "kernelspec": {
   "display_name": "Python 3 (ipykernel)",
   "language": "python",
   "name": "python3"
  },
  "language_info": {
   "codemirror_mode": {
    "name": "ipython",
    "version": 3
   },
   "file_extension": ".py",
   "mimetype": "text/x-python",
   "name": "python",
   "nbconvert_exporter": "python",
   "pygments_lexer": "ipython3",
   "version": "3.12.4"
  }
 },
 "nbformat": 4,
 "nbformat_minor": 5
}
