{
 "cells": [
  {
   "cell_type": "code",
   "execution_count": 72,
   "id": "baabb0f3-556d-4d3f-a8c7-9ad89df03de4",
   "metadata": {
    "scrolled": true
   },
   "outputs": [],
   "source": [
    "with open('html_test.html', 'r', encoding = 'utf-8') as f: \n",
    "    html = f.read() "
   ]
  },
  {
   "cell_type": "code",
   "execution_count": 74,
   "id": "41fe272b-fcf7-42d1-83f9-bfb6d2b796ac",
   "metadata": {},
   "outputs": [
    {
     "name": "stdout",
     "output_type": "stream",
     "text": [
      "﻿<html lang=\"ko\">\n",
      "\t<head>\n",
      "\t\t<title>Online Data Scraping Test</title>\n",
      "\t</head>\n",
      "\n",
      "\t<body>\n",
      "\t\t<p class=\"title\">HTML code for the lecture</p>\n",
      "\t\t<p class=\"description\">This code will be used as HTML source code for the BS lecture. For more detailed information about BS, you can click\n",
      "\t\t\t<a class=\"BS_English\" href=\"https://www.crummy.com/software/BeautifulSoup/bs4/doc/\"> BS4 for beginners</a></p>\n",
      "\t\t<p class=\"description\">한국어로 된 정보를 원한다면\n",
      "\t\t\t<a class=\"BS_Korean\" href=\"https://www.crummy.com/software/BeautifulSoup/bs4/doc.ko/\"> BS4 for beginners (한글버전)</a>을 이용하세요</p>\n",
      "\t\t<div>\n",
      "\t\t\t<p><span class=\"red_price\">35.6</span></p>\n",
      "\t\t\t<p><span class=\"blue_price\">43.2</span></p>\n",
      "\t\t\t<p><span method=\"manual\">24.3</span></p>\n",
      "\t\t</div>\n",
      "\t</body>\n",
      "</html>\n",
      "\n",
      "\n",
      "\n"
     ]
    }
   ],
   "source": [
    "print(html)"
   ]
  },
  {
   "cell_type": "code",
   "execution_count": 76,
   "id": "7bf2afd7-6149-431f-aede-1915e78d7ca0",
   "metadata": {},
   "outputs": [],
   "source": [
    "from bs4 import BeautifulSoup"
   ]
  },
  {
   "cell_type": "code",
   "execution_count": 78,
   "id": "7ef51836-9b8a-44a9-82b0-dc3507d7942c",
   "metadata": {},
   "outputs": [],
   "source": [
    "soup = BeautifulSoup(html, 'lxml')"
   ]
  },
  {
   "cell_type": "code",
   "execution_count": 80,
   "id": "94f840d3-4722-4c9c-8011-b00d9b7fcb6b",
   "metadata": {},
   "outputs": [
    {
     "data": {
      "text/plain": [
       "<title>Online Data Scraping Test</title>"
      ]
     },
     "execution_count": 80,
     "metadata": {},
     "output_type": "execute_result"
    }
   ],
   "source": [
    "soup.title"
   ]
  },
  {
   "cell_type": "code",
   "execution_count": 82,
   "id": "772756ad-a801-4f3e-93b5-8b3017a2571b",
   "metadata": {},
   "outputs": [],
   "source": [
    "#이름을 사용한 tag 탐색은 간단하지만 치명적인 단점이 있음"
   ]
  },
  {
   "cell_type": "code",
   "execution_count": 84,
   "id": "defffff8-b49e-4e09-821e-4ee8ff611e2e",
   "metadata": {},
   "outputs": [],
   "source": [
    "#다른 방법: find(), find_all()를 사용\n",
    "#find(): 조건을 만족하는 tag들 중 첫번째로 나오는 tag 하나만 찾음\n",
    "#tag가 어떤 조건, 정보를 가지는가? -> 이름, "
   ]
  },
  {
   "cell_type": "code",
   "execution_count": 86,
   "id": "2704a722-b1b7-420f-b2b9-df133105e641",
   "metadata": {},
   "outputs": [
    {
     "data": {
      "text/plain": [
       "<title>Online Data Scraping Test</title>"
      ]
     },
     "execution_count": 86,
     "metadata": {},
     "output_type": "execute_result"
    }
   ],
   "source": [
    "soup.find('title')"
   ]
  },
  {
   "cell_type": "code",
   "execution_count": 88,
   "id": "aaa64988-6913-4104-a8b7-9b53e63334ef",
   "metadata": {},
   "outputs": [
    {
     "data": {
      "text/plain": [
       "<p class=\"title\">HTML code for the lecture</p>"
      ]
     },
     "execution_count": 88,
     "metadata": {},
     "output_type": "execute_result"
    }
   ],
   "source": [
    "soup.find('p') #p태그 여러 개 있음"
   ]
  },
  {
   "cell_type": "code",
   "execution_count": 90,
   "id": "e98247b4-c8cb-4e73-9752-984e89695096",
   "metadata": {},
   "outputs": [],
   "source": [
    "#find()는 조건으로 tag들이 갖는 추가 정보를 입력할 수 있음\n",
    "#이를 속성정보 (attribute)라고 부름\n",
    "#사람도 이름 + 속성정보(나이, 성별, 키 등)를 가짐\n",
    "#<>안에, 이름 정보 옆에 있는 정보가 속성정보"
   ]
  },
  {
   "cell_type": "code",
   "execution_count": 92,
   "id": "96df98d9-1865-48a4-ad1c-a718927e1c3d",
   "metadata": {},
   "outputs": [],
   "source": [
    "#find() 함수에 속성정보 입력 방법\n",
    "#soup.find(tan_name, attrs={'attrs_name': 'value'})\n",
    "#키정보인 attrs_name에는 class같은 것, value에는 해당 속성의 값"
   ]
  },
  {
   "cell_type": "code",
   "execution_count": 115,
   "id": "a87cd63a-1cc3-4c62-8b16-b9476659f25f",
   "metadata": {},
   "outputs": [
    {
     "data": {
      "text/plain": [
       "<p class=\"description\">This code will be used as HTML source code for the BS lecture. For more detailed information about BS, you can click\n",
       "\t\t\t<a class=\"BS_English\" href=\"https://www.crummy.com/software/BeautifulSoup/bs4/doc/\"> BS4 for beginners</a></p>"
      ]
     },
     "execution_count": 115,
     "metadata": {},
     "output_type": "execute_result"
    }
   ],
   "source": [
    "soup.find('p', attrs={'class':'description'})"
   ]
  },
  {
   "cell_type": "code",
   "execution_count": 117,
   "id": "d811c116-8964-436b-aeb5-1719dd3244d5",
   "metadata": {},
   "outputs": [
    {
     "data": {
      "text/plain": [
       "<span method=\"manual\">24.3</span>"
      ]
     },
     "execution_count": 117,
     "metadata": {},
     "output_type": "execute_result"
    }
   ],
   "source": [
    "soup.find('span', attrs={'method':'manual'})"
   ]
  },
  {
   "cell_type": "code",
   "execution_count": 119,
   "id": "fb455b9f-cbba-4762-a48c-29102cf02c83",
   "metadata": {},
   "outputs": [
    {
     "data": {
      "text/plain": [
       "'24.3'"
      ]
     },
     "execution_count": 119,
     "metadata": {},
     "output_type": "execute_result"
    }
   ],
   "source": [
    "soup.find('span', attrs={'method':'manual'}).text"
   ]
  },
  {
   "cell_type": "code",
   "execution_count": 121,
   "id": "7543c0fe-d4bc-4fc9-8344-f2ded3e3dcd7",
   "metadata": {},
   "outputs": [],
   "source": [
    "#find_all(): 인자로 들어간 조건을 만족하는 모든 tag를 찾음"
   ]
  },
  {
   "cell_type": "code",
   "execution_count": 123,
   "id": "48da1cef-4ce6-4bc6-9efd-c470bc6cd29b",
   "metadata": {},
   "outputs": [
    {
     "data": {
      "text/plain": [
       "[<p class=\"title\">HTML code for the lecture</p>,\n",
       " <p class=\"description\">This code will be used as HTML source code for the BS lecture. For more detailed information about BS, you can click\n",
       " \t\t\t<a class=\"BS_English\" href=\"https://www.crummy.com/software/BeautifulSoup/bs4/doc/\"> BS4 for beginners</a></p>,\n",
       " <p class=\"description\">한국어로 된 정보를 원한다면\n",
       " \t\t\t<a class=\"BS_Korean\" href=\"https://www.crummy.com/software/BeautifulSoup/bs4/doc.ko/\"> BS4 for beginners (한글버전)</a>을 이용하세요</p>,\n",
       " <p><span class=\"red_price\">35.6</span></p>,\n",
       " <p><span class=\"blue_price\">43.2</span></p>,\n",
       " <p><span method=\"manual\">24.3</span></p>]"
      ]
     },
     "execution_count": 123,
     "metadata": {},
     "output_type": "execute_result"
    }
   ],
   "source": [
    "soup.find_all('p')\n",
    "#여러개의 원소를 가진 애들이 나오므로 인덱싱 가능"
   ]
  },
  {
   "cell_type": "code",
   "execution_count": 104,
   "id": "29a112b6-6456-4cdc-9c3a-606f1e2da079",
   "metadata": {},
   "outputs": [
    {
     "data": {
      "text/plain": [
       "<p><span method=\"manual\">24.3</span></p>"
      ]
     },
     "execution_count": 104,
     "metadata": {},
     "output_type": "execute_result"
    }
   ],
   "source": [
    "soup.find_all('p')[-1]\n",
    "#마지막 원소"
   ]
  },
  {
   "cell_type": "code",
   "execution_count": 106,
   "id": "11701b35-921b-4a6e-af17-85f82f39486c",
   "metadata": {},
   "outputs": [],
   "source": [
    "#속성정보의 값 자체를 추출하는 경우도 있음\n",
    "#일단 find 등의 함수를 사용해서 tag를 찾음\n",
    "#근데 이번에는 text가 아닌 tag가 가진 속성 정보를 추출"
   ]
  },
  {
   "cell_type": "code",
   "execution_count": 108,
   "id": "47dbbce8-58f9-48b0-8992-e4b3b7235bef",
   "metadata": {},
   "outputs": [
    {
     "data": {
      "text/plain": [
       "['title']"
      ]
     },
     "execution_count": 108,
     "metadata": {},
     "output_type": "execute_result"
    }
   ],
   "source": [
    "soup.p.get('class')\n",
    "#get() 함수를 활용하여 특정 속성 값을 추출"
   ]
  },
  {
   "cell_type": "code",
   "execution_count": 110,
   "id": "c85d874a-1f5a-45a9-8a79-8dac3edfa2e7",
   "metadata": {},
   "outputs": [],
   "source": [
    "#get() 함수를 활용하여 url을 가진 속성을 입력하면 그 정보를 추출\n",
    "#이번에는 이름이 아닌 find를 사용하여 추가 속성을 함께 넣어야 함"
   ]
  },
  {
   "cell_type": "code",
   "execution_count": 127,
   "id": "6e795b3b-ac80-4ca0-b97d-f3007b94fd20",
   "metadata": {},
   "outputs": [
    {
     "data": {
      "text/plain": [
       "<a class=\"BS_Korean\" href=\"https://www.crummy.com/software/BeautifulSoup/bs4/doc.ko/\"> BS4 for beginners (한글버전)</a>"
      ]
     },
     "execution_count": 127,
     "metadata": {},
     "output_type": "execute_result"
    }
   ],
   "source": [
    "soup.find('a', attrs={'class':'BS_Korean'})"
   ]
  },
  {
   "cell_type": "code",
   "execution_count": 129,
   "id": "08d74f36-cbb6-46ed-bfe4-f1c49ecd53a6",
   "metadata": {},
   "outputs": [
    {
     "data": {
      "text/plain": [
       "' BS4 for beginners (한글버전)'"
      ]
     },
     "execution_count": 129,
     "metadata": {},
     "output_type": "execute_result"
    }
   ],
   "source": [
    "soup.find('a', attrs={'class':'BS_Korean'}).text"
   ]
  },
  {
   "cell_type": "code",
   "execution_count": 131,
   "id": "99cd366e-feef-4a73-b5e2-73781000c1a6",
   "metadata": {},
   "outputs": [],
   "source": [
    "#meta 태그는 사용자가 아닌 브라우저를 위한 태그임\n",
    "#챗지피티에게 물어보기"
   ]
  },
  {
   "cell_type": "code",
   "execution_count": null,
   "id": "45ca7128-e64f-4aa5-b5b9-77d31b558af8",
   "metadata": {},
   "outputs": [],
   "source": []
  },
  {
   "cell_type": "code",
   "execution_count": null,
   "id": "b1514468-e893-46ba-9a39-c717bd7ecd89",
   "metadata": {},
   "outputs": [],
   "source": []
  },
  {
   "cell_type": "code",
   "execution_count": null,
   "id": "0ba7bf58-2758-4c44-8425-09ec766e6791",
   "metadata": {},
   "outputs": [],
   "source": []
  }
 ],
 "metadata": {
  "kernelspec": {
   "display_name": "Python 3 (ipykernel)",
   "language": "python",
   "name": "python3"
  },
  "language_info": {
   "codemirror_mode": {
    "name": "ipython",
    "version": 3
   },
   "file_extension": ".py",
   "mimetype": "text/x-python",
   "name": "python",
   "nbconvert_exporter": "python",
   "pygments_lexer": "ipython3",
   "version": "3.12.4"
  }
 },
 "nbformat": 4,
 "nbformat_minor": 5
}
