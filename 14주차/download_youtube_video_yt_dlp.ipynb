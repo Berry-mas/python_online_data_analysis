{
 "cells": [
  {
   "cell_type": "code",
   "execution_count": 1,
   "id": "80068fd8-290d-4859-a7ea-7b17f7d05f46",
   "metadata": {},
   "outputs": [],
   "source": [
    "import yt_dlp as youtube_dl\n",
    "import os"
   ]
  },
  {
   "cell_type": "code",
   "execution_count": 2,
   "id": "ed66e30b-cbdf-432e-9660-bae231b83b69",
   "metadata": {},
   "outputs": [],
   "source": [
    "# 실행되는 폴더 안에 '영상제목.확장자' 형식으로 다운로드\n",
    "output_dir = os.path.join('./youtube_videos/', '%(title)s.mp4')"
   ]
  },
  {
   "cell_type": "code",
   "execution_count": 3,
   "id": "cd4fdeff-6d6a-42e6-af95-b15cb0d5c596",
   "metadata": {},
   "outputs": [
    {
     "name": "stdout",
     "output_type": "stream",
     "text": [
      "[youtube] Extracting URL: https://www.youtube.com/watch?v=spQtwggaCy4\n",
      "[youtube] spQtwggaCy4: Downloading webpage\n",
      "[youtube] spQtwggaCy4: Downloading ios player API JSON\n",
      "[youtube] spQtwggaCy4: Downloading player b46bb280\n"
     ]
    },
    {
     "name": "stderr",
     "output_type": "stream",
     "text": [
      "WARNING: [youtube] spQtwggaCy4: nsig extraction failed: You may experience throttling for some formats\n",
      "         n = k1Vc2um0kQIiSVJE20X ; player = https://www.youtube.com/s/player/b46bb280/player_ias.vflset/en_US/base.js\n",
      "WARNING: [youtube] spQtwggaCy4: nsig extraction failed: You may experience throttling for some formats\n",
      "         n = mJLaQU8-13blckL1JuH ; player = https://www.youtube.com/s/player/b46bb280/player_ias.vflset/en_US/base.js\n"
     ]
    },
    {
     "name": "stdout",
     "output_type": "stream",
     "text": [
      "[youtube] spQtwggaCy4: Downloading m3u8 information\n",
      "[info] spQtwggaCy4: Downloading 1 format(s): 614+140\n",
      "[hlsnative] Downloading m3u8 manifest\n",
      "[hlsnative] Total fragments: 15\n",
      "[download] Destination: youtube_videos\\명량 메인 예고편.f614.mp4\n",
      "[download] 100% of   10.72MiB in 00:00:04 at 2.19MiB/s                  \n",
      "[download] Destination: youtube_videos\\명량 메인 예고편.f140.m4a\n",
      "[download] 100% of    1.27MiB in 00:00:00 at 2.31MiB/s   \n",
      "[Merger] Merging formats into \"youtube_videos\\명량 메인 예고편.mp4\"\n",
      "Deleting original file youtube_videos\\명량 메인 예고편.f614.mp4 (pass -k to keep)\n",
      "Deleting original file youtube_videos\\명량 메인 예고편.f140.m4a (pass -k to keep)\n",
      "다운로드 완료했습니다.\n"
     ]
    }
   ],
   "source": [
    "# 여러 영상을 받을 수 있고 플레이리스트도 가능함\n",
    "download_list = [\n",
    "    'https://www.youtube.com/watch?v=spQtwggaCy4',\n",
    "    ]\n",
    "\n",
    "ydl_opt = {\n",
    "    'outtmpl': output_dir,\n",
    "    'format': 'bestvideo+bestaudio', #최상 품질의 비디오 형식 선택\n",
    "}\n",
    "\n",
    "with youtube_dl.YoutubeDL(ydl_opt) as ydl:\n",
    "    ydl.download(download_list)\n",
    "\n",
    "print('다운로드 완료했습니다.')"
   ]
  },
  {
   "cell_type": "code",
   "execution_count": null,
   "id": "db8a9831-2165-491b-80ed-1583d994c566",
   "metadata": {},
   "outputs": [],
   "source": []
  }
 ],
 "metadata": {
  "kernelspec": {
   "display_name": "Python 3 (ipykernel)",
   "language": "python",
   "name": "python3"
  },
  "language_info": {
   "codemirror_mode": {
    "name": "ipython",
    "version": 3
   },
   "file_extension": ".py",
   "mimetype": "text/x-python",
   "name": "python",
   "nbconvert_exporter": "python",
   "pygments_lexer": "ipython3",
   "version": "3.11.7"
  }
 },
 "nbformat": 4,
 "nbformat_minor": 5
}
