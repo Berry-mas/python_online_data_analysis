{
 "cells": [
  {
   "cell_type": "code",
   "execution_count": 13,
   "id": "8a79d783-5c26-4da2-ac16-7befe934ed13",
   "metadata": {},
   "outputs": [],
   "source": [
    "import cv2"
   ]
  },
  {
   "cell_type": "code",
   "execution_count": 3,
   "id": "a2994be0-2117-462a-b97b-4cd291691195",
   "metadata": {},
   "outputs": [],
   "source": [
    "def extract_images_from_video(video_path, output_folder, frame_rate):\n",
    "    # 비디오 파일을 읽어옵니다.\n",
    "    cap = cv2.VideoCapture(video_path)\n",
    "    \n",
    "    if not cap.isOpened():\n",
    "        print(\"Error: Could not open video.\")\n",
    "        return\n",
    "\n",
    "    # 초당 프레임 수를 구합니다.\n",
    "    fps = cap.get(cv2.CAP_PROP_FPS)\n",
    "    count = 0\n",
    "    \n",
    "    while True:\n",
    "        # 비디오에서 프레임을 하나씩 읽습니다.\n",
    "        ret, frame = cap.read()\n",
    "        \n",
    "        # 읽은 프레임이 없으면 종료합니다.\n",
    "        if not ret:\n",
    "            break\n",
    "        \n",
    "        # 지정된 프레임 속도에 따라 이미지를 저장합니다.\n",
    "        if count % int(fps / frame_rate) == 0:\n",
    "            # 저장할 이미지 파일의 경로를 설정합니다.\n",
    "            output_path = f\"{output_folder}/frame_{count}.jpg\"\n",
    "            # 이미지 파일로 프레임을 저장합니다.\n",
    "            cv2.imwrite(output_path, frame)\n",
    "            print(f'Saved {output_path}')\n",
    "        \n",
    "        count += 1\n",
    "    \n",
    "    # 비디오 파일을 닫습니다.\n",
    "    cap.release()\n",
    "    print(\"Done extracting images.\")\n"
   ]
  },
  {
   "cell_type": "code",
   "execution_count": 9,
   "id": "0d6d57bf-f608-438a-b7fb-add99d77acfa",
   "metadata": {},
   "outputs": [],
   "source": [
    "# 함수 호출\n",
    "video_path = './taxi_driver.mp4/'\n",
    "output_folder = './Images_per_second/'\n",
    "frame_rate = 1  # 초당 1 프레임 추출, 2이면 1초당 2 프레임 추출"
   ]
  },
  {
   "cell_type": "code",
   "execution_count": 11,
   "id": "a881e2e7-f442-416c-93fb-ac5acad0c251",
   "metadata": {
    "scrolled": true
   },
   "outputs": [
    {
     "name": "stdout",
     "output_type": "stream",
     "text": [
      "Error: Could not open video.\n"
     ]
    }
   ],
   "source": [
    "extract_images_from_video(video_path, output_folder, frame_rate)   ## 1초에 24개"
   ]
  },
  {
   "cell_type": "code",
   "execution_count": null,
   "id": "5930cd76-6988-42e2-891e-5b48e7745bc8",
   "metadata": {},
   "outputs": [],
   "source": []
  }
 ],
 "metadata": {
  "kernelspec": {
   "display_name": "Python 3 (ipykernel)",
   "language": "python",
   "name": "python3"
  },
  "language_info": {
   "codemirror_mode": {
    "name": "ipython",
    "version": 3
   },
   "file_extension": ".py",
   "mimetype": "text/x-python",
   "name": "python",
   "nbconvert_exporter": "python",
   "pygments_lexer": "ipython3",
   "version": "3.12.4"
  }
 },
 "nbformat": 4,
 "nbformat_minor": 5
}
