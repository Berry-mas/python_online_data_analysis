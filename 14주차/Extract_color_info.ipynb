{
 "cells": [
  {
   "cell_type": "code",
   "execution_count": 3,
   "id": "374ce246-eb3b-48c5-a368-62b3b1f230c5",
   "metadata": {},
   "outputs": [],
   "source": [
    "import cv2 \n",
    "# pip install opencv-python\n",
    "# https://docs.opencv.org/4.x/d6/d00/tutorial_py_root.html"
   ]
  },
  {
   "cell_type": "code",
   "execution_count": 4,
   "id": "22b8f5a0-1da7-4d6e-afd9-8234f3b41e08",
   "metadata": {},
   "outputs": [],
   "source": [
    "import numpy as np\n",
    "from collections import Counter\n",
    "import matplotlib.pyplot as plt"
   ]
  },
  {
   "cell_type": "code",
   "execution_count": 5,
   "id": "b23d0617-cb52-4376-a68d-64d74bc35d77",
   "metadata": {},
   "outputs": [],
   "source": [
    "# 이미지 색상 추출 함수\n",
    "def extract_colors(image_path, num_colors=5):\n",
    "    # 이미지 읽기\n",
    "    image = cv2.imread(image_path)\n",
    "    \n",
    "    # BGR에서 RGB로 변환 (OpenCV는 기본적으로 BGR을 사용함)\n",
    "    image = cv2.cvtColor(image, cv2.COLOR_BGR2RGB)\n",
    "    \n",
    "    # 이미지를 (height * width) x 3의 2D 배열로 변환\n",
    "    pixels = image.reshape(-1, 3)\n",
    "    \n",
    "    # 주요 색상 추출\n",
    "    counter = Counter(map(tuple, pixels))\n",
    "    most_common_colors = counter.most_common(num_colors)\n",
    "\n",
    "    num_total_pixels = count_total_pixels(image_path)\n",
    "    \n",
    "    # 색상 출력\n",
    "    for rgb_color, count in most_common_colors:\n",
    "        color = closest_color_name(rgb_color)\n",
    "        print(f\"색상(RGB): {rgb_color}, 가장 가까운 색상: {color}, 픽셀 수: {count}, 픽셀 비중: {count/num_total_pixels*100:.2%}\")\n"
   ]
  },
  {
   "cell_type": "code",
   "execution_count": 6,
   "id": "658c1c4b-b7bc-4a1c-8e0b-4b8f7f524a3e",
   "metadata": {},
   "outputs": [],
   "source": [
    "# 이미지의 전체 픽셀수 카운트\n",
    "def count_total_pixels(image_path):\n",
    "    # 이미지 읽기\n",
    "    image = cv2.imread(image_path)\n",
    "    \n",
    "    # 이미지의 가로, 세로 크기 가져오기\n",
    "    height, width = image.shape[:2]\n",
    "    \n",
    "    # 전체 픽셀 수 계산\n",
    "    total_pixels = height * width\n",
    "    print(f\"전체 픽셀 수: {total_pixels}\")\n",
    "    \n",
    "    return total_pixels"
   ]
  },
  {
   "cell_type": "code",
   "execution_count": 7,
   "id": "e1ccd33b-cb4d-4058-b3a5-ca7eeb4aa9ff",
   "metadata": {},
   "outputs": [],
   "source": [
    "import webcolors\n",
    "# pip install webcolors"
   ]
  },
  {
   "cell_type": "code",
   "execution_count": 8,
   "id": "c67bd916-b345-470c-b96f-1bd7fea65bf8",
   "metadata": {},
   "outputs": [],
   "source": [
    "def closest_color_name(rgb):\n",
    "    try:\n",
    "        # 정확히 일치하는 색상 이름이 있는지 확인\n",
    "        color_name = webcolors.rgb_to_name(rgb)\n",
    "    except ValueError:\n",
    "        # 일치하는 색상이 없으면 가장 가까운 색상 찾기\n",
    "        min_colors = {}\n",
    "        for hex_code, name in webcolors.CSS3_HEX_TO_NAMES.items():\n",
    "            r, g, b = webcolors.hex_to_rgb(hex_code)\n",
    "            # 유클리드 거리 계산\n",
    "            distance = (r - rgb[0]) ** 2 + (g - rgb[1]) ** 2 + (b - rgb[2]) ** 2\n",
    "            min_colors[distance] = name\n",
    "        color_name = min_colors[min(min_colors.keys())]\n",
    "    return color_name"
   ]
  },
  {
   "cell_type": "code",
   "execution_count": 9,
   "id": "9aa185dd-3c72-401d-9fbf-7aae8fda8de0",
   "metadata": {},
   "outputs": [
    {
     "name": "stdout",
     "output_type": "stream",
     "text": [
      "전체 픽셀 수: 108405\n",
      "색상(RGB): (26, 22, 23), 가장 가까운 색상: black, 픽셀 수: 49, 픽셀 비중: 4.52%\n",
      "색상(RGB): (23, 23, 21), 가장 가까운 색상: black, 픽셀 수: 42, 픽셀 비중: 3.87%\n",
      "색상(RGB): (25, 21, 22), 가장 가까운 색상: black, 픽셀 수: 39, 픽셀 비중: 3.60%\n",
      "색상(RGB): (75, 75, 63), 가장 가까운 색상: darkslategray, 픽셀 수: 38, 픽셀 비중: 3.51%\n",
      "색상(RGB): (144, 34, 0), 가장 가까운 색상: darkred, 픽셀 수: 38, 픽셀 비중: 3.51%\n",
      "색상(RGB): (27, 23, 24), 가장 가까운 색상: black, 픽셀 수: 35, 픽셀 비중: 3.23%\n",
      "색상(RGB): (119, 121, 100), 가장 가까운 색상: dimgray, 픽셀 수: 35, 픽셀 비중: 3.23%\n",
      "색상(RGB): (109, 108, 77), 가장 가까운 색상: dimgray, 픽셀 수: 35, 픽셀 비중: 3.23%\n",
      "색상(RGB): (13, 13, 13), 가장 가까운 색상: black, 픽셀 수: 35, 픽셀 비중: 3.23%\n",
      "색상(RGB): (149, 30, 0), 가장 가까운 색상: darkred, 픽셀 수: 34, 픽셀 비중: 3.14%\n",
      "색상(RGB): (115, 117, 95), 가장 가까운 색상: dimgray, 픽셀 수: 33, 픽셀 비중: 3.04%\n",
      "색상(RGB): (146, 36, 0), 가장 가까운 색상: darkred, 픽셀 수: 33, 픽셀 비중: 3.04%\n",
      "색상(RGB): (150, 36, 0), 가장 가까운 색상: darkred, 픽셀 수: 32, 픽셀 비중: 2.95%\n",
      "색상(RGB): (119, 121, 74), 가장 가까운 색상: dimgray, 픽셀 수: 32, 픽셀 비중: 2.95%\n",
      "색상(RGB): (28, 24, 25), 가장 가까운 색상: black, 픽셀 수: 31, 픽셀 비중: 2.86%\n",
      "색상(RGB): (108, 107, 79), 가장 가까운 색상: dimgray, 픽셀 수: 31, 픽셀 비중: 2.86%\n",
      "색상(RGB): (106, 105, 74), 가장 가까운 색상: dimgray, 픽셀 수: 31, 픽셀 비중: 2.86%\n",
      "색상(RGB): (74, 72, 60), 가장 가까운 색상: darkslategray, 픽셀 수: 31, 픽셀 비중: 2.86%\n",
      "색상(RGB): (145, 35, 0), 가장 가까운 색상: darkred, 픽셀 수: 31, 픽셀 비중: 2.86%\n",
      "색상(RGB): (195, 178, 124), 가장 가까운 색상: darkkhaki, 픽셀 수: 30, 픽셀 비중: 2.77%\n"
     ]
    }
   ],
   "source": [
    "# 함수 실행\n",
    "extract_colors('nemo.jpg', 20)"
   ]
  },
  {
   "cell_type": "code",
   "execution_count": 10,
   "id": "82d78d64-0af3-4eed-a85f-f129ee3ec6b8",
   "metadata": {},
   "outputs": [
    {
     "name": "stdout",
     "output_type": "stream",
     "text": [
      "가장 가까운 색상 이름: red\n"
     ]
    },
    {
     "data": {
      "image/png": "[encoded data removed]",
      "text/plain": [
       "<Figure size 200x200 with 1 Axes>"
      ]
     },
     "metadata": {},
     "output_type": "display_data"
    }
   ],
   "source": [
    "# 색상정보 확인하기\n",
    "rgb_color = (255, 22, 23)\n",
    "color_name = closest_color_name(rgb_color)\n",
    "print(f\"가장 가까운 색상 이름: {color_name}\")\n",
    "# 1x1 이미지 생성\n",
    "plt.figure(figsize=(2, 2))\n",
    "plt.imshow([[rgb_color]])\n",
    "plt.axis('off')\n",
    "plt.show()"
   ]
  },
  {
   "cell_type": "code",
   "execution_count": null,
   "id": "915a2cb4-e25c-4504-9ebb-9b495eb5b560",
   "metadata": {},
   "outputs": [],
   "source": []
  }
 ],
 "metadata": {
  "kernelspec": {
   "display_name": "Python 3 (ipykernel)",
   "language": "python",
   "name": "python3"
  },
  "language_info": {
   "codemirror_mode": {
    "name": "ipython",
    "version": 3
   },
   "file_extension": ".py",
   "mimetype": "text/x-python",
   "name": "python",
   "nbconvert_exporter": "python",
   "pygments_lexer": "ipython3",
   "version": "3.11.7"
  }
 },
 "nbformat": 4,
 "nbformat_minor": 5
}
