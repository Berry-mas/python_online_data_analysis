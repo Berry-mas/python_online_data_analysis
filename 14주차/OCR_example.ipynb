{
 "cells": [
  {
   "cell_type": "markdown",
   "id": "da5c065a-2936-46de-ab88-a3e10fab57bd",
   "metadata": {},
   "source": [
    "# Tesseract"
   ]
  },
  {
   "cell_type": "code",
   "execution_count": 1,
   "id": "01105ac5-5c67-4fc8-b2ae-1fa8f61af6dc",
   "metadata": {},
   "outputs": [],
   "source": [
    "from PIL import Image\n",
    "import pytesseract\n",
    "import cv2"
   ]
  },
  {
   "cell_type": "code",
   "execution_count": 2,
   "id": "50f4816c-c86b-47f2-b8c4-c2ccf6b4b588",
   "metadata": {},
   "outputs": [],
   "source": [
    "pytesseract.pytesseract.tesseract_cmd = r'C:/Program Files\\Tesseract-OCR\\tesseract.exe'"
   ]
  },
  {
   "cell_type": "code",
   "execution_count": 3,
   "id": "7ec388d3-fc2d-4734-8cb9-af987a347bf1",
   "metadata": {},
   "outputs": [],
   "source": [
    "image = cv2.imread('ocr_test_kr.jpg')"
   ]
  },
  {
   "cell_type": "code",
   "execution_count": 4,
   "id": "20a023d6-e667-4c99-b649-51b3d9465e73",
   "metadata": {},
   "outputs": [],
   "source": [
    "# 그레이스케일 변환 (OCR 성능 향상을 위해)\n",
    "gray_image = cv2.cvtColor(image, cv2.COLOR_BGR2GRAY)"
   ]
  },
  {
   "cell_type": "code",
   "execution_count": 5,
   "id": "77e497fb-f1e6-435a-990a-df6e27cba8d3",
   "metadata": {},
   "outputs": [],
   "source": [
    "text = pytesseract.image_to_string(gray_image, lang='eng+kor')  # 한국어 및 영어 인식"
   ]
  },
  {
   "cell_type": "code",
   "execution_count": 6,
   "id": "4b8506d1-15ce-46ee-baa8-cc2066e357ff",
   "metadata": {},
   "outputs": [
    {
     "name": "stdout",
     "output_type": "stream",
     "text": [
      "Wy 7 월 30 일 대 개 봉\n",
      "\n",
      "141 ae\n",
      "\n",
      "이 싸 움 은 불 가 합니다\n",
      "\n",
      "\n"
     ]
    }
   ],
   "source": [
    "# 추출된 텍스트 출력\n",
    "print(text)"
   ]
  },
  {
   "cell_type": "markdown",
   "id": "2a9e56df-a44b-40cb-8056-711bcc5816d6",
   "metadata": {},
   "source": [
    "# easyocr"
   ]
  },
  {
   "cell_type": "code",
   "execution_count": 7,
   "id": "387436e0-f41d-4b62-b91a-93ce128d238a",
   "metadata": {},
   "outputs": [
    {
     "name": "stderr",
     "output_type": "stream",
     "text": [
      "C:\\Users\\Sang\\anaconda3\\Lib\\site-packages\\paramiko\\transport.py:219: CryptographyDeprecationWarning: Blowfish has been deprecated and will be removed in a future release\n",
      "  \"class\": algorithms.Blowfish,\n"
     ]
    }
   ],
   "source": [
    "import easyocr"
   ]
  },
  {
   "cell_type": "code",
   "execution_count": 8,
   "id": "fd464d4f-ce96-4330-b140-b26946cb4283",
   "metadata": {},
   "outputs": [
    {
     "name": "stderr",
     "output_type": "stream",
     "text": [
      "Neither CUDA nor MPS are available - defaulting to CPU. Note: This module is much faster with a GPU.\n"
     ]
    }
   ],
   "source": [
    "reader = easyocr.Reader(['ko'])"
   ]
  },
  {
   "cell_type": "code",
   "execution_count": 9,
   "id": "117ab486-d187-4826-85dc-c985d6ae8f3c",
   "metadata": {},
   "outputs": [
    {
     "name": "stdout",
     "output_type": "stream",
     "text": [
      "[([[99, 25], [305, 25], [305, 135], [99, 135]], '명향', 0.6254991992051717), ([[1383, 55], [1829, 55], [1829, 139], [1383, 139]], '7월 30일 대개봉', 0.9688796149854931), ([[751, 951], [1169, 951], [1169, 1017], [751, 1017]], '이싸움은불가합니다', 0.685936542204451)]\n"
     ]
    }
   ],
   "source": [
    "result_easy = reader.readtext(\"ocr_test_kr.jpg\")\n",
    "print(result_easy)"
   ]
  },
  {
   "cell_type": "markdown",
   "id": "8acaeb31-b8a9-49b6-acd2-8fdd6d01f829",
   "metadata": {},
   "source": [
    "# paddleocr"
   ]
  },
  {
   "cell_type": "code",
   "execution_count": 1,
   "id": "48c5d968-b7ff-4f88-b84c-71aec8fbed8e",
   "metadata": {},
   "outputs": [
    {
     "name": "stderr",
     "output_type": "stream",
     "text": [
      "C:\\Users\\Sang\\anaconda3\\Lib\\site-packages\\paramiko\\transport.py:219: CryptographyDeprecationWarning: Blowfish has been deprecated and will be removed in a future release\n",
      "  \"class\": algorithms.Blowfish,\n"
     ]
    }
   ],
   "source": [
    "from paddleocr import PaddleOCR, draw_ocr\n",
    "import cv2\n",
    "from PIL import Image"
   ]
  },
  {
   "cell_type": "code",
   "execution_count": 2,
   "id": "9683cb13-dab4-4005-8fa9-23d4b35cbebd",
   "metadata": {},
   "outputs": [
    {
     "name": "stdout",
     "output_type": "stream",
     "text": [
      "[2024/12/03 23:12:51] ppocr DEBUG: Namespace(help='==SUPPRESS==', use_gpu=False, use_xpu=False, use_npu=False, use_mlu=False, ir_optim=True, use_tensorrt=False, min_subgraph_size=15, precision='fp32', gpu_mem=500, gpu_id=0, image_dir=None, page_num=0, det_algorithm='DB', det_model_dir='C:\\\\Users\\\\Sang/.paddleocr/whl\\\\det\\\\ml\\\\Multilingual_PP-OCRv3_det_infer', det_limit_side_len=960, det_limit_type='max', det_box_type='quad', det_db_thresh=0.3, det_db_box_thresh=0.6, det_db_unclip_ratio=1.5, max_batch_size=10, use_dilation=False, det_db_score_mode='fast', det_east_score_thresh=0.8, det_east_cover_thresh=0.1, det_east_nms_thresh=0.2, det_sast_score_thresh=0.5, det_sast_nms_thresh=0.2, det_pse_thresh=0, det_pse_box_thresh=0.85, det_pse_min_area=16, det_pse_scale=1, scales=[8, 16, 32], alpha=1.0, beta=1.0, fourier_degree=5, rec_algorithm='SVTR_LCNet', rec_model_dir='C:\\\\Users\\\\Sang/.paddleocr/whl\\\\rec\\\\korean\\\\korean_PP-OCRv4_rec_infer', rec_image_inverse=True, rec_image_shape='3, 48, 320', rec_batch_num=6, max_text_length=25, rec_char_dict_path='C:\\\\Users\\\\Sang\\\\anaconda3\\\\Lib\\\\site-packages\\\\paddleocr\\\\ppocr\\\\utils\\\\dict\\\\korean_dict.txt', use_space_char=True, vis_font_path='./doc/fonts/simfang.ttf', drop_score=0.5, e2e_algorithm='PGNet', e2e_model_dir=None, e2e_limit_side_len=768, e2e_limit_type='max', e2e_pgnet_score_thresh=0.5, e2e_char_dict_path='./ppocr/utils/ic15_dict.txt', e2e_pgnet_valid_set='totaltext', e2e_pgnet_mode='fast', use_angle_cls=False, cls_model_dir='C:\\\\Users\\\\Sang/.paddleocr/whl\\\\cls\\\\ch_ppocr_mobile_v2.0_cls_infer', cls_image_shape='3, 48, 192', label_list=['0', '180'], cls_batch_num=6, cls_thresh=0.9, enable_mkldnn=False, cpu_threads=10, use_pdserving=False, warmup=False, sr_model_dir=None, sr_image_shape='3, 32, 128', sr_batch_num=1, draw_img_save_dir='./inference_results', save_crop_res=False, crop_res_save_dir='./output', use_mp=False, total_process_num=1, process_id=0, benchmark=False, save_log_path='./log_output/', show_log=True, use_onnx=False, return_word_box=False, output='./output', table_max_len=488, table_algorithm='TableAttn', table_model_dir=None, merge_no_span_structure=True, table_char_dict_path=None, formula_algorithm='LaTeXOCR', formula_model_dir=None, formula_char_dict_path=None, formula_batch_num=1, layout_model_dir=None, layout_dict_path=None, layout_score_threshold=0.5, layout_nms_threshold=0.5, kie_algorithm='LayoutXLM', ser_model_dir=None, re_model_dir=None, use_visual_backbone=True, ser_dict_path='../train_data/XFUND/class_list_xfun.txt', ocr_order_method=None, mode='structure', image_orientation=False, layout=True, table=True, formula=False, ocr=True, recovery=False, recovery_to_markdown=False, use_pdf2docx_api=False, invert=False, binarize=False, alphacolor=(255, 255, 255), lang='korean', det=True, rec=True, type='ocr', savefile=False, ocr_version='PP-OCRv4', structure_version='PP-StructureV2')\n",
      "[2024/12/03 23:12:56] ppocr WARNING: Since the angle classifier is not initialized, it will not be used during the forward process\n",
      "[2024/12/03 23:12:57] ppocr DEBUG: dt_boxes num : 6, elapsed : 1.4895696640014648\n",
      "[2024/12/03 23:12:59] ppocr DEBUG: rec_res num  : 6, elapsed : 1.4460501670837402\n",
      "7월\n",
      "30일\n",
      "대개봉\n",
      "이\n",
      "싸움은불가합니다\n"
     ]
    }
   ],
   "source": [
    "# OCR 모델 초기화\n",
    "ocr = PaddleOCR(lang='korean')  # 'korean'으로 한글 인식 설정 가능\n",
    "\n",
    "# 이미지 불러오기\n",
    "image_path = 'ocr_test_kr.jpg'\n",
    "image = cv2.imread(image_path)\n",
    "\n",
    "# OCR 수행\n",
    "result = ocr.ocr(image_path, cls=True)\n",
    "\n",
    "# 결과 출력\n",
    "for line in result[0]:\n",
    "    print(line[1][0])"
   ]
  },
  {
   "cell_type": "code",
   "execution_count": null,
   "id": "4e19fd86-9977-4409-8d6e-bbb476459762",
   "metadata": {},
   "outputs": [],
   "source": []
  }
 ],
 "metadata": {
  "kernelspec": {
   "display_name": "Python 3 (ipykernel)",
   "language": "python",
   "name": "python3"
  },
  "language_info": {
   "codemirror_mode": {
    "name": "ipython",
    "version": 3
   },
   "file_extension": ".py",
   "mimetype": "text/x-python",
   "name": "python",
   "nbconvert_exporter": "python",
   "pygments_lexer": "ipython3",
   "version": "3.11.7"
  }
 },
 "nbformat": 4,
 "nbformat_minor": 5
}
