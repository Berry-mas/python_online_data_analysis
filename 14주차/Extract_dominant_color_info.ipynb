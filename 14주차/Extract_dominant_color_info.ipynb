{
 "cells": [
  {
   "cell_type": "code",
   "execution_count": 1,
   "id": "40d0cab4-4de5-40a6-9102-3321340b1419",
   "metadata": {},
   "outputs": [],
   "source": [
    "import cv2\n",
    "import numpy as np\n",
    "from sklearn.cluster import KMeans\n",
    "import matplotlib.pyplot as plt"
   ]
  },
  {
   "cell_type": "code",
   "execution_count": 2,
   "id": "3bc7c27e-b730-40f7-b927-664d2d3aa69a",
   "metadata": {},
   "outputs": [],
   "source": [
    "# pip install webcolors\n",
    "import webcolors\n",
    "# 이 함수는 그렇게 정확하지는 않음\n",
    "def closest_color_name(rgb):\n",
    "    try:\n",
    "        # 정확히 일치하는 색상 이름이 있는지 확인\n",
    "        color_name = webcolors.rgb_to_name(rgb)\n",
    "    except ValueError:\n",
    "        # 일치하는 색상이 없으면 가장 가까운 색상 찾기\n",
    "        min_colors = {}\n",
    "        for hex_code, name in webcolors.CSS3_HEX_TO_NAMES.items():\n",
    "            r, g, b = webcolors.hex_to_rgb(hex_code)\n",
    "            # 유클리드 거리 계산\n",
    "            distance = (r - rgb[0]) ** 2 + (g - rgb[1]) ** 2 + (b - rgb[2]) ** 2\n",
    "            min_colors[distance] = name\n",
    "        color_name = min_colors[min(min_colors.keys())]\n",
    "    return color_name"
   ]
  },
  {
   "cell_type": "code",
   "execution_count": 13,
   "id": "1fbafdbf-185d-4d12-9c55-179386fbef33",
   "metadata": {},
   "outputs": [],
   "source": [
    "# 주요 색상을 추출하는 함수\n",
    "def extract_dominant_colors(image_path, num_colors=5):\n",
    "    # 이미지 읽기\n",
    "    image = cv2.imread(image_path)\n",
    "    \n",
    "    # BGR에서 RGB로 변환\n",
    "    image = cv2.cvtColor(image, cv2.COLOR_BGR2RGB)\n",
    "    \n",
    "    # 이미지를 2D 배열로 변환\n",
    "    pixels = image.reshape(-1, 3)\n",
    "    # print(pixels)\n",
    "    \n",
    "    # KMeans 클러스터링을 사용하여 주요 색상 추출\n",
    "    kmeans = KMeans(n_clusters=num_colors)\n",
    "    kmeans.fit(pixels)\n",
    "    colors = kmeans.cluster_centers_.astype(int)\n",
    "    counts = np.bincount(kmeans.labels_)\n",
    "    \n",
    "    # 주요 색상과 비율 출력\n",
    "    for i, color in enumerate(colors):\n",
    "        closest_color = closest_color_name(tuple(color))\n",
    "        print(f\"색상 {i+1}: RGB {tuple(color)}, 가까운 색: {closest_color}, 비율: {counts[i] / len(kmeans.labels_):.2%}\")\n",
    "    \n",
    "    # 시각화를 위한 주요 색상 차트 생성\n",
    "    plt.figure(figsize=(8, 2))\n",
    "    plt.axis(\"off\")\n",
    "    plt.imshow([colors])\n",
    "    plt.show()\n",
    "    \n",
    "    return colors"
   ]
  },
  {
   "cell_type": "code",
   "execution_count": 14,
   "id": "df7a1f20-b474-4087-91af-f6b9e728fe3d",
   "metadata": {},
   "outputs": [
    {
     "name": "stderr",
     "output_type": "stream",
     "text": [
      "C:\\Users\\Sang\\anaconda3\\Lib\\site-packages\\sklearn\\cluster\\_kmeans.py:870: FutureWarning: The default value of `n_init` will change from 10 to 'auto' in 1.4. Set the value of `n_init` explicitly to suppress the warning\n",
      "  warnings.warn(\n"
     ]
    },
    {
     "name": "stdout",
     "output_type": "stream",
     "text": [
      "색상 1: RGB (197, 189, 125), 가까운 색: darkkhaki, 비율: 15.19%\n",
      "색상 2: RGB (62, 90, 43), 가까운 색: darkolivegreen, 비율: 26.77%\n",
      "색상 3: RGB (175, 46, 61), 가까운 색: brown, 비율: 12.40%\n",
      "색상 4: RGB (253, 252, 248), 가까운 색: snow, 비율: 17.82%\n",
      "색상 5: RGB (171, 171, 31), 가까운 색: yellowgreen, 비율: 27.81%\n"
     ]
    },
    {
     "data": {
      "image/png": "[encoded data removed]",
      "text/plain": [
       "<Figure size 800x200 with 1 Axes>"
      ]
     },
     "metadata": {},
     "output_type": "display_data"
    },
    {
     "data": {
      "text/plain": [
       "array([[197, 189, 125],\n",
       "       [ 62,  90,  43],\n",
       "       [175,  46,  61],\n",
       "       [253, 252, 248],\n",
       "       [171, 171,  31]])"
      ]
     },
     "execution_count": 14,
     "metadata": {},
     "output_type": "execute_result"
    }
   ],
   "source": [
    "# 함수 실행\n",
    "extract_dominant_colors('test.jpg', num_colors=5)\n",
    "# RGB 결과는 각 군집의 중심 색"
   ]
  },
  {
   "cell_type": "code",
   "execution_count": 15,
   "id": "a240270e-8e0d-4f30-ad0b-04284d04fc56",
   "metadata": {},
   "outputs": [
    {
     "name": "stderr",
     "output_type": "stream",
     "text": [
      "C:\\Users\\Sang\\anaconda3\\Lib\\site-packages\\sklearn\\cluster\\_kmeans.py:870: FutureWarning: The default value of `n_init` will change from 10 to 'auto' in 1.4. Set the value of `n_init` explicitly to suppress the warning\n",
      "  warnings.warn(\n"
     ]
    },
    {
     "name": "stdout",
     "output_type": "stream",
     "text": [
      "색상 1: RGB (31, 49, 31), 가까운 색: darkslategray, 비율: 8.08%\n",
      "색상 2: RGB (162, 163, 37), 가까운 색: yellowgreen, 비율: 11.31%\n",
      "색상 3: RGB (254, 254, 253), 가까운 색: white, 비율: 16.25%\n",
      "색상 4: RGB (115, 135, 51), 가까운 색: olivedrab, 비율: 13.57%\n",
      "색상 5: RGB (173, 40, 58), 가까운 색: brown, 비율: 11.06%\n",
      "색상 6: RGB (191, 133, 119), 가까운 색: rosybrown, 비율: 5.01%\n",
      "색상 7: RGB (226, 217, 167), 가까운 색: palegoldenrod, 비율: 5.34%\n",
      "색상 8: RGB (61, 100, 47), 가까운 색: darkolivegreen, 비율: 12.23%\n",
      "색상 9: RGB (188, 203, 106), 가까운 색: darkkhaki, 비율: 8.05%\n",
      "색상 10: RGB (216, 197, 6), 가까운 색: goldenrod, 비율: 9.11%\n"
     ]
    },
    {
     "data": {
      "image/png": "[encoded data removed]",
      "text/plain": [
       "<Figure size 800x200 with 1 Axes>"
      ]
     },
     "metadata": {},
     "output_type": "display_data"
    },
    {
     "data": {
      "text/plain": [
       "array([[ 31,  49,  31],\n",
       "       [162, 163,  37],\n",
       "       [254, 254, 253],\n",
       "       [115, 135,  51],\n",
       "       [173,  40,  58],\n",
       "       [191, 133, 119],\n",
       "       [226, 217, 167],\n",
       "       [ 61, 100,  47],\n",
       "       [188, 203, 106],\n",
       "       [216, 197,   6]])"
      ]
     },
     "execution_count": 15,
     "metadata": {},
     "output_type": "execute_result"
    }
   ],
   "source": [
    "extract_dominant_colors('test.jpg', num_colors=10)"
   ]
  },
  {
   "cell_type": "code",
   "execution_count": null,
   "id": "7c28aa3a-0313-4c2d-b12b-406a2e4df4c4",
   "metadata": {},
   "outputs": [],
   "source": []
  }
 ],
 "metadata": {
  "kernelspec": {
   "display_name": "Python 3 (ipykernel)",
   "language": "python",
   "name": "python3"
  },
  "language_info": {
   "codemirror_mode": {
    "name": "ipython",
    "version": 3
   },
   "file_extension": ".py",
   "mimetype": "text/x-python",
   "name": "python",
   "nbconvert_exporter": "python",
   "pygments_lexer": "ipython3",
   "version": "3.11.7"
  }
 },
 "nbformat": 4,
 "nbformat_minor": 5
}
