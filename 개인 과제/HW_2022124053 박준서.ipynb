{
 "cells": [
  {
   "cell_type": "markdown",
   "id": "8322bdfb-a8bb-4128-b6ca-656f410d1e5c",
   "metadata": {},
   "source": [
    "# 1. 전처리 & 명사 단어 추출"
   ]
  },
  {
   "cell_type": "code",
   "execution_count": 299,
   "id": "1e8fa55e-ab8a-4870-ac07-d54af0fca77c",
   "metadata": {},
   "outputs": [],
   "source": [
    "import numpy as np\n",
    "from os import listdir\n",
    "from os.path import isfile, join\n",
    "\n",
    "mypath = './data/'\n",
    "onlyfiles = [f for f in listdir(mypath) if isfile(join(mypath, f))]\n",
    "onlyfiles.sort()\n",
    "\n",
    "total_docs = []\n",
    "for file in onlyfiles:\n",
    "    file_path = mypath+file\n",
    "    with open(file_path, 'r', encoding='utf8') as f:\n",
    "        content = f.read()\n",
    "    total_docs.append(content)"
   ]
  },
  {
   "cell_type": "code",
   "execution_count": 82,
   "id": "fcd92dbb-3cce-4588-8ad8-10f237f26e96",
   "metadata": {},
   "outputs": [],
   "source": [
    "from kiwipiepy import Kiwi\n",
    "from kiwipiepy.utils import Stopwords\n",
    "import re\n",
    "kiwi = Kiwi()\n",
    "stopwords_dict = Stopwords()"
   ]
  },
  {
   "cell_type": "code",
   "execution_count": 98,
   "id": "e4c398cc-020c-49a9-a473-edd50b86a166",
   "metadata": {},
   "outputs": [],
   "source": [
    "def Kr_preprocessing(text):\n",
    "    text = text.strip()\n",
    "    text = re.sub(r'[^\\d\\s\\w]','',text)\n",
    "    kiwi_tokens = kiwi.tokenize(text, stopwords=stopwords_dict)\n",
    "    noun_words=[]\n",
    "    for token in kiwi_tokens:\n",
    "        if 'NN' in token.tag and len(token.form)>1:\n",
    "            noun_words.append(token.form)\n",
    "    return ' '.join(noun_words)"
   ]
  },
  {
   "cell_type": "code",
   "execution_count": 94,
   "id": "61725820-6642-4a80-826f-50aacda95c2a",
   "metadata": {},
   "outputs": [],
   "source": [
    "filtered_docs = [Kr_preprocessing(doc) for doc in total_docs]"
   ]
  },
  {
   "cell_type": "code",
   "execution_count": 95,
   "id": "25f9bb96-e9f7-4c0c-8907-72a26eb5f30a",
   "metadata": {},
   "outputs": [
    {
     "name": "stdout",
     "output_type": "stream",
     "text": [
      "['국내 연구진 신종 코로나바이러스 감염증 코로나 예방 백신 접종 변종 바이러스 원리 성훈 서울대 전기 정보 공학부 교수 연구진 서울대병원 오명 박완 감염내과 교수 정준 생화학 교실 교수 파스퇴르 연구소 코로나 백신 반복 투여 면역력 원리 설명 기술 개발 처음 개발 코로나 예방 백신 접종 미크론 변종 대응 변종 야생 코로나바이러스 유전 정보 백신 미크론 변종 바이러스 대항 항체 연구진 코로나 예방 백신 차례 접종 의료진 혈액 채취 차세대 염기 서열 분석 결합 면역 영상 기술 면역 세포 이상 유전자 정보 분석 면역 영상 기술 기존 엑스선 영상 질병 진단 개인 면역 상태 영상 종합 분석 차세대 기술 시간 면역 세포 분포 기능 분화 형태 상호 작용 포괄 정보 질병 특이 면역 반응 이해 특정 치료법 환자 개인 반응 예측 연구진 유전자 데이터 기반 백신 접종 면역 체계 변화 연속 추적 결과 번째 접종 항체 체세포 돌연변이 축적 항체 다양 항원 결합 체세포 돌연변이 면역계 외부 요인 적응 반응 항원 인식 B세포 다양 백신 반복 접종 등장 변종 바이러스 효과 대응 이유 변종 바이러스 대응 항체 최초 형성 시기 접종 이전 항체 접종 체세포 돌연변이 축적 처음 코로나바이러스 미크론 포함 변종 바이러스 중화 진화 연구진 코로나 돌연변이 대응 체내 면역 원리 세계 최초 해석 결과 논문 저자 최재원 서울대 전기 공학부 연구원 기존 코로나 백신 반복 접종 미크론 대항 항체 현상 면역학 교과서 설명 서울대병원 개개인 면역 세포 분화 추적 현상 설명 성훈 교수 이번 연구 개발 차세대 염기 서열 분석 결합 면역 영상 기술 팬데믹 대비 정확 신속 백신 면역 반응 이해 다양 질병 치료법 예방책 개발 중요 역할 연구 결과 국제 학술지 네이처 커뮤니케이션 게재', '국내 연구진 신종 코로나바이러스 감염증 코로나 백신 접종 미크론 변종 면역 반응 발달 원리 규명 향후 코로나 유행 상황 예방 백신 접종 전략 마련 도움 기대 서울대병원 박완 감염내과 교수 연구 백신 접종 체세포 돌연변이 증가 유도 코로나 항체 확대 다양 변종 대응 연구 결과 국제 학술지 네이처 커뮤니케이션즈 지난달 게재 기존 메신저 리보 백신 접종 코로나 바이러스 표면 동일 스파이크 단백질 유전 정보 체내 전달 이후 체내 면역 세포 스파이크 단백질 노출 항원 바이러스 결합 감염 중화 무력 항체 최근 연구 코로나 원형 백신 접종 미크론 변종 감염 예방 효과 미크론 변종 노출 면역 세포 접종 항체 원리 연구 화이자 백신 접종 혈액 채취 접종 접종 접종 접종 샘플 차세대 염기 서열 분석 방법 백신 접종 코로나 항체 변화 추적 결과 코로나 백신 반복 접종 형성 항체 항원 결합 부위 유전자 구조 발생 돌연변이 체세포 돌연변이 유의미 증가 항체 특정 항원 결합 특이 체세포 돌연변이 발생 항체 항원 결합 다양 변종 대응 가능 백신 접종 횟수 증가 코로나 항체 대응 바이러스 종류 다양 접종 항체 야생 바이러스 알파 베타 감마 주요 변이 대항 접종 미크론 하위 변종 대항 연구 백신 접종 유발 체세포 돌연변이 바이러스 항원 항체 확대 변화 미크론 변종 감염 대응 메커니즘 핵심 설명 이번 연구 한국 치매 연구 센터 한국보건산업진흥원 단계 사업 한국연구재단 서울대병원 지원 수행', '기존 코로나바이러스 감염증 코로나 백신 차례 접종 변종 바이러스 면역 체계 형성 국내 연구 결과 서울대 성훈 서울대 전기 정보 공학부 교수 연구진 서울대병원 오명돈박완범 감염내과 교수 정준 생화학 교실 교수 파스퇴르 연구소 기존 코로나 백신 차례 접종 체세포 돌연변이 증가 확인 체세포 돌연변이 면역계 외부 요인 적응 반응 항원 인식 항체 생산 면역 세포 B세포 다양 백신 반복 변종 바이러스 효과 대응 이유 연구진 야생 코로나 예방 백신 차례 접종 의료진 채취 혈액 면역 세포 유전자 정보 차세대 염기 서열 분석 방법 면역 영상 기술 검사 분석 결과 야생 백신 단위 항체 종류 접종 단위 기존 야생 바이러스 백신 반복 항체 임상 결과 항체 형성 원리 이번 처음 연구 결과 국제 학술지 네이처 커뮤니케이션 지난달 게재', '최태원 SK그룹 회장 이혼 소송 항소심 판결 관련 개인 구성원 이해관계자 모두 심려 국가 경제 모두 부정 영향 소임 사법부 판단 존중 생각 성장 역사 부정 이번 판결 유감 구성원 모두 명예 진실 회장 이날 오전 서울 종로구 SK서린 사옥 임시 SK수펙스 추구 협의회 참석 수펙스추구 협의회 그룹 최고 협의 기구 최창원 의장 주요 계열사 최고 경영자 그룹 차원 공동 현안 논의 자리 SK그룹 최창원 수펙스추구 협의회 의장 주재 이날 회의 이혼 소송 항소심 판결 회장 개인 그룹 가치 역사 훼손 만큼 그룹 차원 입장 정리 대책 논의 필요 인식 경영진 발의 임시 소집 회의 회장 의장 주요 계열사 참석 회장 이번 판결 그룹 가치 가치 구성원 명예 자부심 상처 입장 표명 필요 생각 참석 이유 회장 이번 사안 슬기 대처 글로벌 환경 변화 대응 사업 경쟁력 제고 그룹 경영 매진 바이오 사업 성장 내실 경영 기반 성장 추구 강조 반도체 디지털 사업 확장 리더십 확보 중요 그룹 경영 관리 시스템 정신 바탕 고객 사랑 대한민국 사회 기여 모습 회장 구성원 행복 증진 마음 당부 솔선수범 회장 이날 오후 대한상의 주최 국회의원 환영 리셉션 향후 계획 대외 일정 예정 소화 이날 회의 최근 법원 판결 그룹 국가 경제 발전 기여 글로벌 시장 주목 기업 성장 역사 훼손 인식 대응 방안 논의 일부 이동 통신 사업 진출 과정 과거 정부 특혜 취지 판결 관련 노태우 정부 당시 압도 점수 이동 통신 사업 정부 압력 주일 사업 반납 역사 사실 경험 이의 제기 김영삼 정부 출범 이후 한국이동통신 인수 이동 통신 사업 진출 정경 유착 부정 자금 성장 곡해 법원 판단 참담 심정 입장 진실 규명 명예 회복 대처 최창원 의장 솔선수범 본연 업무 충실 기업 가치 사업 경쟁력 제고 노력 평소 계속 당부 재계 안팎 회장 관장 이혼 소송 항소심 판결 천문학 금액 재산 분할 경우 재계 그룹 지배 구조 우려 이번 긴급 회의 회장 소송 개인 그룹 차원 문제 위기감 반영 풀이', '최태원 SK그룹 회장 이혼 소송 항소심 판결 관련 구성원 이해관계자 심려 사과 그룹 경영 국가 경제 차질 최선 회장 오전 서울 종로구 SK서린 사옥 임시 수펙스추구 협의회 참석 개인 구성원 이해관계자 모두 심려 국가 경제 모두 부정 영향 소임 이날 수펙스추구 협의회 항소심 판결 회장 개인 그룹 가치 역사 훼손 만큼 그룹 차원 입장 정리 대책 논의 필요 인식 경영진 발의 임시 소집 이날 회의 최창원 수펙스추구 협의회 의장 주요 계열사 최고 경영자 참석 회장 이번 판결 그룹 가치 가치 구성원 명예 자부심 상처 입장 표명 필요 생각 참석 이유 언급 사법부 판단 존중 생각 성장 역사 부정 이번 판결 유감 구성원 모두 명예 진실 의지 이번 사안 슬기 대처 글로벌 환경 변화 대응 사업 경쟁력 제고 그룹 경영 매진 바이오 사업 성장 내실 경영 기반 성장 추구 반도체 디지털 사업 확장 리더십 확보 중요 그룹 정신 바탕 고객 사랑 대한민국 사회 기여 모습 강조 마지막 구성원 행복 증진 마음 솔선수범 이날 회의 최근 법원 판결 그룹 국가 경제 발전 기여 글로벌 시장 주목 기업 성장 역사 훼손 인식 대응 방안 논의 일부 이동 통신 사업 진출 과정 과거 정부 특혜 취지 판결 관련 노태우 정부 당시 압도 점수 이동 통신 사업 정부 압력 주일 사업 반납 역사 사실 경험 이의 제기 김영삼 정부 출범 이후 한국이동통신 인수 이동 통신 사업 진출 정경 유착 부정 자금 성장 곡해 법원 판단 참담 심정 진실 규명 명예 회복 대처 경영진 판결 이후 구성원 주주 투자자 협력사 이해 관계자 반응 향후 경영 파장 점검 대응책 논의 구성원 동요 안정 업무 전념 최선 의견 외부 이해관계자 경영 안정 우려 적극 소통 신뢰 관계 노력 최창원 의장 솔선수범 본연 업무 충실 기업 가치 사업 경쟁력 제고 노력 평소 계속 당부 수펙스추구 협의회 유의 경영 철학 문화 기반 그룹 최고 협의 기구 최창원 의장 주요 계열사 그룹 차원 공동 현안 논의 자리', '최태원 그룹 회장 노소영 아트센터 나비 관장 이혼 소송 항소심 이후 처음 그룹 임직원 사과 입장 재계 회장 이날 그룹 사내 포털 구성원 편지 순간 국내외 사업 현장 업무 매진 구성원 생각 마음 개인사 의도 걱정 사과 가사소송 최태원 개인 이번 판결 그룹 역사 근간 부정 브랜드 가치 가치 구성원 명예 자부심 상처 민주 사회 구성원 사법부 판단 존중 생각 이번 판결 생각 수긍 국가 경제 발전 기여 글로벌 시장 주목 기업 성장 역사 정면 부정 유감 회장 이동 통신 사업 진출 관련 노태우 대통령 당시 청와대 고위 관계자 사돈 기업 특혜 논란 이유 사업 포기 요구 증명 자료 특혜 역차별 주장 김영삼 정부 시절 한국이동통신 인수 이동 통신 사업 진출 정경 유착 철저 준비 실력 강조 그룹 구성원 명예 진실 규명 노력 계속 상고심 곡해 진실 선배 구성원 성장 역사 곡해 자세 대응 다짐 회장 구성원 이번 판결 파장 경영진 업무 일상 전념 부탁 솔선수범 소임 회장 이날 서울 종로구 SK서린 사옥 임시 SK수펙스 추구 협의회 참석 이혼 소송 항소심 판결 관련 입장 표명 개인 구성원 이해관계자 모두 심려 국가 경제 모두 부정 영향 소임 서울고법 가사 부장 판사 김시철 김옥 이동현 역대 최대 재산 회장 관장 현금 분할 동시 정신 손해 배상 위자료 지급 지난달 판결 회장 행위 지적 재판부 회장 동거인 김희영 티앤씨 재단 이사장 관계 시작 시점 이사장 이혼 이전 회장 관장 편지 김희영 당시 남편 이혼 아이 계획 근거 재판부 기재 내용 혼인 관계 유지 존속 좌우 정도 중요 결정 만약 회장 관장 혼인 관계 존중 관장 혼인 관계 해소 이사장 공개 활동 지속 유사 배우자 지위 태도 헌법 보호 일부일처 존중 질타', '최태원 SK그룹 회장 사내 게시판 구성원 사과 입장 이번 사업부 판단 존중 수긍 메시지 전달 회장 순간 국내외 사업 현장 업무 매진 구성원 생각 마음 개인사 의도 걱정 지난달 서울고법 회장 노소영 아트센터 나비 관장 이혼 소송 항소심 회장 관장 재산 분할 위자료 지급 판결 회장 이번 판결 민주 사회 구성원 사법부 판단 존중 생각 국가 경제 발전 기여 글로벌 시장 주목 기업 성장 역사 정면 부정 유감 이동 통신 사업 진출 정경 유착 철저 준비 실력 노태우 정부 시절 경쟁 후보 압도 최고 점수 이동 통신 사업자 선정 일주일 사업 반납 설명 특혜 역차별 한국이동통신 인수 이동 통신 사업 진출 회장 상고 진실 오늘 구성원 패기 지성 노력 헌신 상고심 곡해 진실 강조 마지막 직원 경영진 업무 일상 전념 부탁 소임', '해병대 채모 상병 순직 사건 검토 국방부 조사 본부 임성근 해병대 사단장 혐의 중간 판단 초동 조사 해병대 수사단 결론 최종 사단장 혐의자 제외 과정 대통령 윗선 개입 고위 공직자 범죄 수사처 수사 쟁점 연합뉴스 확보 분량 채상병 사망 사고 관계자 사망 원인 범죄 단서 정황 판단 보고서 조사 본부 사단장 해병대 간부 혐의 인정 정황 판단 결과 조사 본부 지난해 이종섭 당시 국방부 장관 지시 해병대 수사단 기록 검토 보고서 지난해 국방부 검찰 의견 회신 전달 잠정 법리 판단 결과 조사 본부 가운데 사단장 가슴 장화 구체 수색 방법 거론 바람 상병 장화 수중 실종자 수색 안전 수색 활동 의무 조사 본부 판단 포함 사단장 혐의 의견 추가 조사 필요 의견 보고서 해병대 수사단 모두 업무 과실 치사 혐의 적용 판단 국방부 조사 결과 경찰 이첩 보류 조사 본부 검토 지시 검토 지시 닷새 초기 보고서 조사 본부 사단장 포함 혐의 판단 조사 본부 지난해 최종 사단장 제외 대대장 경찰 이첩 일각 대상 과정 대통령실 외압 작용 의혹 제기 공수처 최근 조사 본부 검토 과정 집중 지난달 조사 본부 책임자 박경훈 조사 본부장 직무 대리 피의자 신분 소환 조사 이달 조사 본부 수사 단장 참고인 신분 조사 공수처 관계자 조사 실무 관여 국방부 조사 본부 관계자 참고인 조사 예정 조사 결과 검토 조사 본부 의견 교환 김동혁 검찰 단장 국방부 고위 관계자 수사 범위 확대 가능 제기 장관 조사 본부 검토 과정 보고 지시 입장', '국방부 조사 본부 경찰 회수 해병대 수사단 채상병 사망 사건 수사 기록 검토 이후 작성 보고서 임성근 당시 해병대 사단장 범죄 혐의 확인 이종섭 당시 국방부 장관 지시 경찰 이첩 기록 이례 상황 후속 보고서 내용 사실 일주일 조사 본부 사단장 대대장 혐의 적시 수사 기록 경찰 사이 조사 본부 발생 수사 필요 상황 오마이뉴스 확보 분량 상병 사망 사고 관계자 중략 정황 판단 보고서 국방부 경북 경찰청 회수 해병대 수사단 수사 기록 조사 본부 검토 내용 해당 보고서 지난해 생산 오른쪽 상단 공개 도장 조사 본부 보고서 해병대 수사단 경찰 이첩 사단장 포함 안전 의무 비교 하급자 혐의 적용 관련 추가 조사 필요 판단 조사 본부 사단장 할애 구체 의견 조사 본부 안전 대책 수립 해병 사단 경북 예천 실종자 수색 지원 전반 안전 업무 조정 통제 사단장 지칭 아래 지적 관계자 실종자 수색 작전 임무 안전 대책 수립 안전 장비 준비 수변 수풀 가슴 장화 구체 수색 방법 거론 바람 상병 장화 실종자 수색 안전 교육 지시 이행 작전 전개 재촉 실종자 수색 인원 복장 상태 중심 지적 안전 확보 업무 채상병 위험 수색 언론 보도 군기 관심 조사 본부 국방부 검찰 단과 법무 관리관실 해당 보고서 전달 의견 제시 일주일 조사 본부 검토 내용 사단장 대대장 과실 치사 혐의 적시 수사 기록 경찰 고위 공직자 범죄 수사처 공수처 국방부 조사 본부 박경훈 본부장 직무 대리 김진 수사 단장 차례 조사', '해병대 채모 상병 순직 사건 검토 국방부 조사 본부 지난해 보고서 임성근 해병대 사단장 혐의 내용 중간 판단 법조 조사 본부 작성 분량 채상병 사망 사고 관계자 사망 원인 범죄 단서 정황 판단 보고서 조사 본부 사단장 해병대 간부 혐의 인정 정황 판단 결과 해당 보고서 지난해 이종섭 당시 국방부 장관 지시 해병대 수사단 기록 조사 본부 검토 작성 국방부 검찰 의견 회신 전달 잠정 법리 판단 결과 조사 본부 사단장 가슴 장화 구체 수색 방법 거론 바람 상병 장화 수중 실종자 수색 안전 수색 활동 의무 해병대 수사단 사단장 해병대 간부 모두 업무 과실 치사 혐의 적용 판단 조사 본부 판단 포함 사단장 혐의 의견 추가 조사 필요 의견 보고서 조사 본부 지난해 최종 사단장 제외 대대장 경찰 이첩 일각 대상 과정 대통령실 외압 작용 의혹 해당 의혹 수사 고위 공직자 범죄 수사처 공수처 최근 조사 본부 검토 과정 집중 지난달 조사 본부 책임자 박경훈 조사 본부장 직무 대리 피의자 신분 소환 조사 이달 조사 본부 수사 단장 참고인 신분 조사 공수처 관계자 조사 실무 관여 국방부 조사 본부 관계자 참고인 조사 예정 조사 결과 검토 조사 본부 의견 교환 김동혁 검찰 단장 국방부 고위 관계자 수사 범위 확대 가능 제기', '북한 대남 오물 풍선 무더기 살포 주요 외신 최근 북한 복합 도발 양상 한국 정부 반응 남북 풍선 전쟁 과거사 비중 보도 미국 현지 시간 북한 쓰레기 풍선 작전 강화 폐기물 남한 일부 보도 이날 합동참모본부 발표 인용 전날 이날 아침 사이 북한 오물 풍선 살포 한국 곳곳 발견 대북 단체 전단 살포 북한 보복 매체 지난달 실패 군사 정찰 위성 발사 단거리 탄도 미사일 발사 일련 도발 북한 오물 풍선 살포 설명 합참 발표 내용 담배 꽁초 판지 플라스틱 조각 대남 풍선 쓰레기 방호 군인 수거 목격 한국 정부 이번 도발 이성 저급 표현 이번 오물 풍선 살포 최근 탄도 미사일 발사 유엔 대북 제재 위반 지적 뉴욕타임스 북한 오물 풍선 발사 제목 기사 불안 자극 파괴 수단 분석 지금 한국 북한 발사 물체 로켓 탄도 미사일 경우 오물 풍선 공격 한국 정부 국경 지대 주민 오물 풍선 공습 실수 경고 혼란 대중 불만 처음 한국인 오물 풍선 침착 유지 정부 국민 풍선 당국 즉시 신고 촉구 기류 감지 북한 김정은 국무 위원장 이복형 김정남 암살 사용 화학 무기 대량 비축 외신 이번 사건 계기 남북 풍선 전쟁 설명 영국 BBC 년대 한국 전쟁 이후 남북한 풍선 선전 도구 이용 한국 활동가 현금 금지 언론 콘텐츠 한국 과자 초코파이 풍선 북한 북한 주민 외국 뉴스 북한 김정은 절대 통제력 저해 외부 시도 극도 민감 반응 분석 영국 일간 가디언 남한 활동가 북한 비방 전단 풍선 북한 오랫동안 분노 해당 풍선 현금 남한 드라마 시리즈 드라이브 포함 북한 쓰레기 살포 잠정 중단 입장 김강일 국방성 부상 이날 오후 조선중앙통신 공개 담화 한국 휴지 노릇 기분 공력 소비 체험 한국 삐라 살포 재개 경우 집중 살포', '북한 대남 오물 풍선 살포 가운데 세계 외신 비중 현지 시간 뉴욕타임스 북한 쓰레기 풍선 남한 폭격 제목 기사 북한 지난달 무장 지대 너머 쓰레기 풍선 불안 파괴 보도 북한 한국 발사 물체 보통 로켓 탄도 미사일 오물 풍선 공격 한국 정부 국경 지대 주민 오물 풍선 공습 실수 경고 혼란 대중 불만 대부분 한국인 침착 유지 정부 풍선 즉시 당국 신고 촉구 기류 북한 김정은 국무 위원장 이복형 김정남 암살 사용 화학 무기 대량 비축 부연 AP통신 합동 참모 본부 발표 인용 풍선 북한 이상 풍선 전국 각지 발견 풍선 분뇨 담배꽁초 조각 폐지 비닐 위험 물질 보도 북한 주민 대부분 외국 라디오 프로그램 공식 시도 극도 민감 반응 분석 영국 가디언 담배꽁초 플라스틱 쓰레기 풍선 국경 보도 외신 과거 풍선 전쟁 주목 냉전 시대 남북한 선전전 서로 영공 전단 풍선 남북한 자국민 소지 금지 영국 가디언 남한 활동가 북한 비방 전단 풍선 북한 오랫동안 분노 해당 풍선 현금 남한 드라마 시리즈 드라이브 포함 영국 BBC 년대 한국 전쟁 이후 선전 풍선 사용 남한 활동가 현금 금지 미디어 콘텐츠 북한 금지 한국 간식 초코파이 풍선 남북한 선전 공세 맞보복 확대 지적 남북 관계 개선 시기 정상 전단 살포 포함 영역 서로 적대 행위 중단 합의 북한 개성공단 남북 연락 사무소 건물 폭파 북한 전단 범죄 규정 법안 통과 위헌 판결 사례 보도', '북한 대남 오물 풍선 무더기 살포 주요 외신 최근 북한 복합 도발 양상 한국 정부 반응 남북 풍선 전쟁 과거사 비중 보도 이날 서울발 기사 합참 발표 내용 담배 꽁초 판지 플라스틱 조각 대남 풍선 쓰레기 방호 군인 수거 목격 한국 정부 이번 도발 이성 저급 표현 이번 오물 풍선 살포 최근 탄도 미사일 발사 유엔 대북 제재 위반 보도 AP통신 이날 합동참모본부 발표 인용 전날 이날 아침 사이 북한 오물 풍선 살포 한국 곳곳 발견 대북 단체 전단 살포 북한 보복 AP통신 지난달 실패 군사 정찰 위성 발사 단거리 탄도 미사일 발사 일련 도발 북한 오물 풍선 살포 당국 화생방 신속 대응 폭발물 처리 급파 전국 각지 오물 풍선 수거 서울시 풍선 살포 관련 시민 안전 안내 문자 당국 대응 보도 외신 북한 도발 배경 남북 전단 살포 전쟁 조명 영국 일간 가디언 남한 활동가 북한 비방 전단 풍선 북한 오랫동안 분노 해당 풍선 현금 남한 드라마 시리즈 드라이브 포함 년대 한국 전쟁 이후 남북한 선전전 풍선 이용 남한 활동가 북한 비방 선전 현금 북한 금지 미디어 콘텐츠 한국 간식 북한 금지 초코파이 풍선 소개 북한 주민 외국 뉴스 북한 김정은 절대 통제력 저해 외부 시도 극도 민감 반응 분석']\n"
     ]
    }
   ],
   "source": [
    "print(filtered_docs)"
   ]
  },
  {
   "cell_type": "code",
   "execution_count": 57,
   "id": "a55c92d8-ffe7-48ed-9223-9eadfaec8977",
   "metadata": {
    "scrolled": true
   },
   "outputs": [
    {
     "data": {
      "text/plain": [
       "713"
      ]
     },
     "execution_count": 57,
     "metadata": {},
     "output_type": "execute_result"
    }
   ],
   "source": [
    "len(filtered_docs[1])"
   ]
  },
  {
   "cell_type": "markdown",
   "id": "d79c206c-894a-4419-baa5-abffb0bb0719",
   "metadata": {},
   "source": [
    "# 2. 문서의 벡터화 (TF-IDF 정보 사용)"
   ]
  },
  {
   "cell_type": "code",
   "execution_count": 11,
   "id": "09b1d054-290d-4cbe-ad5d-5c95e391e15b",
   "metadata": {},
   "outputs": [],
   "source": [
    "import pandas as pd\n",
    "from sklearn.feature_extraction.text import TfidfVectorizer # tf-idf based DTM"
   ]
  },
  {
   "cell_type": "code",
   "execution_count": 153,
   "id": "04d50936-40a1-4f49-8329-b97b0e2707ae",
   "metadata": {},
   "outputs": [
    {
     "data": {
      "text/plain": [
       "['국내 연구진 신종 코로나바이러스 감염증 코로나 예방 백신 접종 변종 바이러스 원리 성훈 서울대 전기 정보 공학부 교수 연구진 서울대병원 오명 박완 감염내과 교수 정준 생화학 교실 교수 파스퇴르 연구소 코로나 백신 반복 투여 면역력 원리 설명 기술 개발 처음 개발 코로나 예방 백신 접종 미크론 변종 대응 변종 야생 코로나바이러스 유전 정보 백신 미크론 변종 바이러스 대항 항체 연구진 코로나 예방 백신 차례 접종 의료진 혈액 채취 차세대 염기 서열 분석 결합 면역 영상 기술 면역 세포 이상 유전자 정보 분석 면역 영상 기술 기존 엑스선 영상 질병 진단 개인 면역 상태 영상 종합 분석 차세대 기술 시간 면역 세포 분포 기능 분화 형태 상호 작용 포괄 정보 질병 특이 면역 반응 이해 특정 치료법 환자 개인 반응 예측 연구진 유전자 데이터 기반 백신 접종 면역 체계 변화 연속 추적 결과 번째 접종 항체 체세포 돌연변이 축적 항체 다양 항원 결합 체세포 돌연변이 면역계 외부 요인 적응 반응 항원 인식 B세포 다양 백신 반복 접종 등장 변종 바이러스 효과 대응 이유 변종 바이러스 대응 항체 최초 형성 시기 접종 이전 항체 접종 체세포 돌연변이 축적 처음 코로나바이러스 미크론 포함 변종 바이러스 중화 진화 연구진 코로나 돌연변이 대응 체내 면역 원리 세계 최초 해석 결과 논문 저자 최재원 서울대 전기 공학부 연구원 기존 코로나 백신 반복 접종 미크론 대항 항체 현상 면역학 교과서 설명 서울대병원 개개인 면역 세포 분화 추적 현상 설명 성훈 교수 이번 연구 개발 차세대 염기 서열 분석 결합 면역 영상 기술 팬데믹 대비 정확 신속 백신 면역 반응 이해 다양 질병 치료법 예방책 개발 중요 역할 연구 결과 국제 학술지 네이처 커뮤니케이션 게재',\n",
       " '국내 연구진 신종 코로나바이러스 감염증 코로나 백신 접종 미크론 변종 면역 반응 발달 원리 규명 향후 코로나 유행 상황 예방 백신 접종 전략 마련 도움 기대 서울대병원 박완 감염내과 교수 연구 백신 접종 체세포 돌연변이 증가 유도 코로나 항체 확대 다양 변종 대응 연구 결과 국제 학술지 네이처 커뮤니케이션즈 지난달 게재 기존 메신저 리보 백신 접종 코로나 바이러스 표면 동일 스파이크 단백질 유전 정보 체내 전달 이후 체내 면역 세포 스파이크 단백질 노출 항원 바이러스 결합 감염 중화 무력 항체 최근 연구 코로나 원형 백신 접종 미크론 변종 감염 예방 효과 미크론 변종 노출 면역 세포 접종 항체 원리 연구 화이자 백신 접종 혈액 채취 접종 접종 접종 접종 샘플 차세대 염기 서열 분석 방법 백신 접종 코로나 항체 변화 추적 결과 코로나 백신 반복 접종 형성 항체 항원 결합 부위 유전자 구조 발생 돌연변이 체세포 돌연변이 유의미 증가 항체 특정 항원 결합 특이 체세포 돌연변이 발생 항체 항원 결합 다양 변종 대응 가능 백신 접종 횟수 증가 코로나 항체 대응 바이러스 종류 다양 접종 항체 야생 바이러스 알파 베타 감마 주요 변이 대항 접종 미크론 하위 변종 대항 연구 백신 접종 유발 체세포 돌연변이 바이러스 항원 항체 확대 변화 미크론 변종 감염 대응 메커니즘 핵심 설명 이번 연구 한국 치매 연구 센터 한국보건산업진흥원 단계 사업 한국연구재단 서울대병원 지원 수행',\n",
       " '기존 코로나바이러스 감염증 코로나 백신 차례 접종 변종 바이러스 면역 체계 형성 국내 연구 결과 서울대 성훈 서울대 전기 정보 공학부 교수 연구진 서울대병원 오명돈박완범 감염내과 교수 정준 생화학 교실 교수 파스퇴르 연구소 기존 코로나 백신 차례 접종 체세포 돌연변이 증가 확인 체세포 돌연변이 면역계 외부 요인 적응 반응 항원 인식 항체 생산 면역 세포 B세포 다양 백신 반복 변종 바이러스 효과 대응 이유 연구진 야생 코로나 예방 백신 차례 접종 의료진 채취 혈액 면역 세포 유전자 정보 차세대 염기 서열 분석 방법 면역 영상 기술 검사 분석 결과 야생 백신 단위 항체 종류 접종 단위 기존 야생 바이러스 백신 반복 항체 임상 결과 항체 형성 원리 이번 처음 연구 결과 국제 학술지 네이처 커뮤니케이션 지난달 게재',\n",
       " '최태원 SK그룹 회장 이혼 소송 항소심 판결 관련 개인 구성원 이해관계자 모두 심려 국가 경제 모두 부정 영향 소임 사법부 판단 존중 생각 성장 역사 부정 이번 판결 유감 구성원 모두 명예 진실 회장 이날 오전 서울 종로구 SK서린 사옥 임시 SK수펙스 추구 협의회 참석 수펙스추구 협의회 그룹 최고 협의 기구 최창원 의장 주요 계열사 최고 경영자 그룹 차원 공동 현안 논의 자리 SK그룹 최창원 수펙스추구 협의회 의장 주재 이날 회의 이혼 소송 항소심 판결 회장 개인 그룹 가치 역사 훼손 만큼 그룹 차원 입장 정리 대책 논의 필요 인식 경영진 발의 임시 소집 회의 회장 의장 주요 계열사 참석 회장 이번 판결 그룹 가치 가치 구성원 명예 자부심 상처 입장 표명 필요 생각 참석 이유 회장 이번 사안 슬기 대처 글로벌 환경 변화 대응 사업 경쟁력 제고 그룹 경영 매진 바이오 사업 성장 내실 경영 기반 성장 추구 강조 반도체 디지털 사업 확장 리더십 확보 중요 그룹 경영 관리 시스템 정신 바탕 고객 사랑 대한민국 사회 기여 모습 회장 구성원 행복 증진 마음 당부 솔선수범 회장 이날 오후 대한상의 주최 국회의원 환영 리셉션 향후 계획 대외 일정 예정 소화 이날 회의 최근 법원 판결 그룹 국가 경제 발전 기여 글로벌 시장 주목 기업 성장 역사 훼손 인식 대응 방안 논의 일부 이동 통신 사업 진출 과정 과거 정부 특혜 취지 판결 관련 노태우 정부 당시 압도 점수 이동 통신 사업 정부 압력 주일 사업 반납 역사 사실 경험 이의 제기 김영삼 정부 출범 이후 한국이동통신 인수 이동 통신 사업 진출 정경 유착 부정 자금 성장 곡해 법원 판단 참담 심정 입장 진실 규명 명예 회복 대처 최창원 의장 솔선수범 본연 업무 충실 기업 가치 사업 경쟁력 제고 노력 평소 계속 당부 재계 안팎 회장 관장 이혼 소송 항소심 판결 천문학 금액 재산 분할 경우 재계 그룹 지배 구조 우려 이번 긴급 회의 회장 소송 개인 그룹 차원 문제 위기감 반영 풀이',\n",
       " '최태원 SK그룹 회장 이혼 소송 항소심 판결 관련 구성원 이해관계자 심려 사과 그룹 경영 국가 경제 차질 최선 회장 오전 서울 종로구 SK서린 사옥 임시 수펙스추구 협의회 참석 개인 구성원 이해관계자 모두 심려 국가 경제 모두 부정 영향 소임 이날 수펙스추구 협의회 항소심 판결 회장 개인 그룹 가치 역사 훼손 만큼 그룹 차원 입장 정리 대책 논의 필요 인식 경영진 발의 임시 소집 이날 회의 최창원 수펙스추구 협의회 의장 주요 계열사 최고 경영자 참석 회장 이번 판결 그룹 가치 가치 구성원 명예 자부심 상처 입장 표명 필요 생각 참석 이유 언급 사법부 판단 존중 생각 성장 역사 부정 이번 판결 유감 구성원 모두 명예 진실 의지 이번 사안 슬기 대처 글로벌 환경 변화 대응 사업 경쟁력 제고 그룹 경영 매진 바이오 사업 성장 내실 경영 기반 성장 추구 반도체 디지털 사업 확장 리더십 확보 중요 그룹 정신 바탕 고객 사랑 대한민국 사회 기여 모습 강조 마지막 구성원 행복 증진 마음 솔선수범 이날 회의 최근 법원 판결 그룹 국가 경제 발전 기여 글로벌 시장 주목 기업 성장 역사 훼손 인식 대응 방안 논의 일부 이동 통신 사업 진출 과정 과거 정부 특혜 취지 판결 관련 노태우 정부 당시 압도 점수 이동 통신 사업 정부 압력 주일 사업 반납 역사 사실 경험 이의 제기 김영삼 정부 출범 이후 한국이동통신 인수 이동 통신 사업 진출 정경 유착 부정 자금 성장 곡해 법원 판단 참담 심정 진실 규명 명예 회복 대처 경영진 판결 이후 구성원 주주 투자자 협력사 이해 관계자 반응 향후 경영 파장 점검 대응책 논의 구성원 동요 안정 업무 전념 최선 의견 외부 이해관계자 경영 안정 우려 적극 소통 신뢰 관계 노력 최창원 의장 솔선수범 본연 업무 충실 기업 가치 사업 경쟁력 제고 노력 평소 계속 당부 수펙스추구 협의회 유의 경영 철학 문화 기반 그룹 최고 협의 기구 최창원 의장 주요 계열사 그룹 차원 공동 현안 논의 자리',\n",
       " '최태원 그룹 회장 노소영 아트센터 나비 관장 이혼 소송 항소심 이후 처음 그룹 임직원 사과 입장 재계 회장 이날 그룹 사내 포털 구성원 편지 순간 국내외 사업 현장 업무 매진 구성원 생각 마음 개인사 의도 걱정 사과 가사소송 최태원 개인 이번 판결 그룹 역사 근간 부정 브랜드 가치 가치 구성원 명예 자부심 상처 민주 사회 구성원 사법부 판단 존중 생각 이번 판결 생각 수긍 국가 경제 발전 기여 글로벌 시장 주목 기업 성장 역사 정면 부정 유감 회장 이동 통신 사업 진출 관련 노태우 대통령 당시 청와대 고위 관계자 사돈 기업 특혜 논란 이유 사업 포기 요구 증명 자료 특혜 역차별 주장 김영삼 정부 시절 한국이동통신 인수 이동 통신 사업 진출 정경 유착 철저 준비 실력 강조 그룹 구성원 명예 진실 규명 노력 계속 상고심 곡해 진실 선배 구성원 성장 역사 곡해 자세 대응 다짐 회장 구성원 이번 판결 파장 경영진 업무 일상 전념 부탁 솔선수범 소임 회장 이날 서울 종로구 SK서린 사옥 임시 SK수펙스 추구 협의회 참석 이혼 소송 항소심 판결 관련 입장 표명 개인 구성원 이해관계자 모두 심려 국가 경제 모두 부정 영향 소임 서울고법 가사 부장 판사 김시철 김옥 이동현 역대 최대 재산 회장 관장 현금 분할 동시 정신 손해 배상 위자료 지급 지난달 판결 회장 행위 지적 재판부 회장 동거인 김희영 티앤씨 재단 이사장 관계 시작 시점 이사장 이혼 이전 회장 관장 편지 김희영 당시 남편 이혼 아이 계획 근거 재판부 기재 내용 혼인 관계 유지 존속 좌우 정도 중요 결정 만약 회장 관장 혼인 관계 존중 관장 혼인 관계 해소 이사장 공개 활동 지속 유사 배우자 지위 태도 헌법 보호 일부일처 존중 질타',\n",
       " '최태원 SK그룹 회장 사내 게시판 구성원 사과 입장 이번 사업부 판단 존중 수긍 메시지 전달 회장 순간 국내외 사업 현장 업무 매진 구성원 생각 마음 개인사 의도 걱정 지난달 서울고법 회장 노소영 아트센터 나비 관장 이혼 소송 항소심 회장 관장 재산 분할 위자료 지급 판결 회장 이번 판결 민주 사회 구성원 사법부 판단 존중 생각 국가 경제 발전 기여 글로벌 시장 주목 기업 성장 역사 정면 부정 유감 이동 통신 사업 진출 정경 유착 철저 준비 실력 노태우 정부 시절 경쟁 후보 압도 최고 점수 이동 통신 사업자 선정 일주일 사업 반납 설명 특혜 역차별 한국이동통신 인수 이동 통신 사업 진출 회장 상고 진실 오늘 구성원 패기 지성 노력 헌신 상고심 곡해 진실 강조 마지막 직원 경영진 업무 일상 전념 부탁 소임',\n",
       " '해병대 채모 상병 순직 사건 검토 국방부 조사 본부 임성근 해병대 사단장 혐의 중간 판단 초동 조사 해병대 수사단 결론 최종 사단장 혐의자 제외 과정 대통령 윗선 개입 고위 공직자 범죄 수사처 수사 쟁점 연합뉴스 확보 분량 채상병 사망 사고 관계자 사망 원인 범죄 단서 정황 판단 보고서 조사 본부 사단장 해병대 간부 혐의 인정 정황 판단 결과 조사 본부 지난해 이종섭 당시 국방부 장관 지시 해병대 수사단 기록 검토 보고서 지난해 국방부 검찰 의견 회신 전달 잠정 법리 판단 결과 조사 본부 가운데 사단장 가슴 장화 구체 수색 방법 거론 바람 상병 장화 수중 실종자 수색 안전 수색 활동 의무 조사 본부 판단 포함 사단장 혐의 의견 추가 조사 필요 의견 보고서 해병대 수사단 모두 업무 과실 치사 혐의 적용 판단 국방부 조사 결과 경찰 이첩 보류 조사 본부 검토 지시 검토 지시 닷새 초기 보고서 조사 본부 사단장 포함 혐의 판단 조사 본부 지난해 최종 사단장 제외 대대장 경찰 이첩 일각 대상 과정 대통령실 외압 작용 의혹 제기 공수처 최근 조사 본부 검토 과정 집중 지난달 조사 본부 책임자 박경훈 조사 본부장 직무 대리 피의자 신분 소환 조사 이달 조사 본부 수사 단장 참고인 신분 조사 공수처 관계자 조사 실무 관여 국방부 조사 본부 관계자 참고인 조사 예정 조사 결과 검토 조사 본부 의견 교환 김동혁 검찰 단장 국방부 고위 관계자 수사 범위 확대 가능 제기 장관 조사 본부 검토 과정 보고 지시 입장',\n",
       " '국방부 조사 본부 경찰 회수 해병대 수사단 채상병 사망 사건 수사 기록 검토 이후 작성 보고서 임성근 당시 해병대 사단장 범죄 혐의 확인 이종섭 당시 국방부 장관 지시 경찰 이첩 기록 이례 상황 후속 보고서 내용 사실 일주일 조사 본부 사단장 대대장 혐의 적시 수사 기록 경찰 사이 조사 본부 발생 수사 필요 상황 오마이뉴스 확보 분량 상병 사망 사고 관계자 중략 정황 판단 보고서 국방부 경북 경찰청 회수 해병대 수사단 수사 기록 조사 본부 검토 내용 해당 보고서 지난해 생산 오른쪽 상단 공개 도장 조사 본부 보고서 해병대 수사단 경찰 이첩 사단장 포함 안전 의무 비교 하급자 혐의 적용 관련 추가 조사 필요 판단 조사 본부 사단장 할애 구체 의견 조사 본부 안전 대책 수립 해병 사단 경북 예천 실종자 수색 지원 전반 안전 업무 조정 통제 사단장 지칭 아래 지적 관계자 실종자 수색 작전 임무 안전 대책 수립 안전 장비 준비 수변 수풀 가슴 장화 구체 수색 방법 거론 바람 상병 장화 실종자 수색 안전 교육 지시 이행 작전 전개 재촉 실종자 수색 인원 복장 상태 중심 지적 안전 확보 업무 채상병 위험 수색 언론 보도 군기 관심 조사 본부 국방부 검찰 단과 법무 관리관실 해당 보고서 전달 의견 제시 일주일 조사 본부 검토 내용 사단장 대대장 과실 치사 혐의 적시 수사 기록 경찰 고위 공직자 범죄 수사처 공수처 국방부 조사 본부 박경훈 본부장 직무 대리 김진 수사 단장 차례 조사',\n",
       " '해병대 채모 상병 순직 사건 검토 국방부 조사 본부 지난해 보고서 임성근 해병대 사단장 혐의 내용 중간 판단 법조 조사 본부 작성 분량 채상병 사망 사고 관계자 사망 원인 범죄 단서 정황 판단 보고서 조사 본부 사단장 해병대 간부 혐의 인정 정황 판단 결과 해당 보고서 지난해 이종섭 당시 국방부 장관 지시 해병대 수사단 기록 조사 본부 검토 작성 국방부 검찰 의견 회신 전달 잠정 법리 판단 결과 조사 본부 사단장 가슴 장화 구체 수색 방법 거론 바람 상병 장화 수중 실종자 수색 안전 수색 활동 의무 해병대 수사단 사단장 해병대 간부 모두 업무 과실 치사 혐의 적용 판단 조사 본부 판단 포함 사단장 혐의 의견 추가 조사 필요 의견 보고서 조사 본부 지난해 최종 사단장 제외 대대장 경찰 이첩 일각 대상 과정 대통령실 외압 작용 의혹 해당 의혹 수사 고위 공직자 범죄 수사처 공수처 최근 조사 본부 검토 과정 집중 지난달 조사 본부 책임자 박경훈 조사 본부장 직무 대리 피의자 신분 소환 조사 이달 조사 본부 수사 단장 참고인 신분 조사 공수처 관계자 조사 실무 관여 국방부 조사 본부 관계자 참고인 조사 예정 조사 결과 검토 조사 본부 의견 교환 김동혁 검찰 단장 국방부 고위 관계자 수사 범위 확대 가능 제기',\n",
       " '북한 대남 오물 풍선 무더기 살포 주요 외신 최근 북한 복합 도발 양상 한국 정부 반응 남북 풍선 전쟁 과거사 비중 보도 미국 현지 시간 북한 쓰레기 풍선 작전 강화 폐기물 남한 일부 보도 이날 합동참모본부 발표 인용 전날 이날 아침 사이 북한 오물 풍선 살포 한국 곳곳 발견 대북 단체 전단 살포 북한 보복 매체 지난달 실패 군사 정찰 위성 발사 단거리 탄도 미사일 발사 일련 도발 북한 오물 풍선 살포 설명 합참 발표 내용 담배 꽁초 판지 플라스틱 조각 대남 풍선 쓰레기 방호 군인 수거 목격 한국 정부 이번 도발 이성 저급 표현 이번 오물 풍선 살포 최근 탄도 미사일 발사 유엔 대북 제재 위반 지적 뉴욕타임스 북한 오물 풍선 발사 제목 기사 불안 자극 파괴 수단 분석 지금 한국 북한 발사 물체 로켓 탄도 미사일 경우 오물 풍선 공격 한국 정부 국경 지대 주민 오물 풍선 공습 실수 경고 혼란 대중 불만 처음 한국인 오물 풍선 침착 유지 정부 국민 풍선 당국 즉시 신고 촉구 기류 감지 북한 김정은 국무 위원장 이복형 김정남 암살 사용 화학 무기 대량 비축 외신 이번 사건 계기 남북 풍선 전쟁 설명 영국 BBC 년대 한국 전쟁 이후 남북한 풍선 선전 도구 이용 한국 활동가 현금 금지 언론 콘텐츠 한국 과자 초코파이 풍선 북한 북한 주민 외국 뉴스 북한 김정은 절대 통제력 저해 외부 시도 극도 민감 반응 분석 영국 일간 가디언 남한 활동가 북한 비방 전단 풍선 북한 오랫동안 분노 해당 풍선 현금 남한 드라마 시리즈 드라이브 포함 북한 쓰레기 살포 잠정 중단 입장 김강일 국방성 부상 이날 오후 조선중앙통신 공개 담화 한국 휴지 노릇 기분 공력 소비 체험 한국 삐라 살포 재개 경우 집중 살포',\n",
       " '북한 대남 오물 풍선 살포 가운데 세계 외신 비중 현지 시간 뉴욕타임스 북한 쓰레기 풍선 남한 폭격 제목 기사 북한 지난달 무장 지대 너머 쓰레기 풍선 불안 파괴 보도 북한 한국 발사 물체 보통 로켓 탄도 미사일 오물 풍선 공격 한국 정부 국경 지대 주민 오물 풍선 공습 실수 경고 혼란 대중 불만 대부분 한국인 침착 유지 정부 풍선 즉시 당국 신고 촉구 기류 북한 김정은 국무 위원장 이복형 김정남 암살 사용 화학 무기 대량 비축 부연 AP통신 합동 참모 본부 발표 인용 풍선 북한 이상 풍선 전국 각지 발견 풍선 분뇨 담배꽁초 조각 폐지 비닐 위험 물질 보도 북한 주민 대부분 외국 라디오 프로그램 공식 시도 극도 민감 반응 분석 영국 가디언 담배꽁초 플라스틱 쓰레기 풍선 국경 보도 외신 과거 풍선 전쟁 주목 냉전 시대 남북한 선전전 서로 영공 전단 풍선 남북한 자국민 소지 금지 영국 가디언 남한 활동가 북한 비방 전단 풍선 북한 오랫동안 분노 해당 풍선 현금 남한 드라마 시리즈 드라이브 포함 영국 BBC 년대 한국 전쟁 이후 선전 풍선 사용 남한 활동가 현금 금지 미디어 콘텐츠 북한 금지 한국 간식 초코파이 풍선 남북한 선전 공세 맞보복 확대 지적 남북 관계 개선 시기 정상 전단 살포 포함 영역 서로 적대 행위 중단 합의 북한 개성공단 남북 연락 사무소 건물 폭파 북한 전단 범죄 규정 법안 통과 위헌 판결 사례 보도',\n",
       " '북한 대남 오물 풍선 무더기 살포 주요 외신 최근 북한 복합 도발 양상 한국 정부 반응 남북 풍선 전쟁 과거사 비중 보도 이날 서울발 기사 합참 발표 내용 담배 꽁초 판지 플라스틱 조각 대남 풍선 쓰레기 방호 군인 수거 목격 한국 정부 이번 도발 이성 저급 표현 이번 오물 풍선 살포 최근 탄도 미사일 발사 유엔 대북 제재 위반 보도 AP통신 이날 합동참모본부 발표 인용 전날 이날 아침 사이 북한 오물 풍선 살포 한국 곳곳 발견 대북 단체 전단 살포 북한 보복 AP통신 지난달 실패 군사 정찰 위성 발사 단거리 탄도 미사일 발사 일련 도발 북한 오물 풍선 살포 당국 화생방 신속 대응 폭발물 처리 급파 전국 각지 오물 풍선 수거 서울시 풍선 살포 관련 시민 안전 안내 문자 당국 대응 보도 외신 북한 도발 배경 남북 전단 살포 전쟁 조명 영국 일간 가디언 남한 활동가 북한 비방 전단 풍선 북한 오랫동안 분노 해당 풍선 현금 남한 드라마 시리즈 드라이브 포함 년대 한국 전쟁 이후 남북한 선전전 풍선 이용 남한 활동가 북한 비방 선전 현금 북한 금지 미디어 콘텐츠 한국 간식 북한 금지 초코파이 풍선 소개 북한 주민 외국 뉴스 북한 김정은 절대 통제력 저해 외부 시도 극도 민감 반응 분석']"
      ]
     },
     "execution_count": 153,
     "metadata": {},
     "output_type": "execute_result"
    }
   ],
   "source": [
    "filtered_docs"
   ]
  },
  {
   "cell_type": "code",
   "execution_count": 166,
   "id": "513c37e2-a590-4edb-9cc7-9eb287a683dc",
   "metadata": {},
   "outputs": [],
   "source": [
    "tfidf_vectorizer = TfidfVectorizer(min_df=1, ngram_range=(1,1))\n",
    "DTM_tfidf = tfidf_vectorizer.fit_transform(filtered_docs)\n",
    "DTM_TFIDF = np.array(DTM_tfidf.todense())"
   ]
  },
  {
   "cell_type": "code",
   "execution_count": 270,
   "id": "e12cfc16-2cc6-457a-bee8-31afe0526017",
   "metadata": {
    "scrolled": true
   },
   "outputs": [
    {
     "name": "stdout",
     "output_type": "stream",
     "text": [
      "[[0.         0.         0.03640438 ... 0.         0.         0.        ]\n",
      " [0.         0.         0.         ... 0.         0.         0.        ]\n",
      " [0.         0.         0.07046972 ... 0.         0.         0.        ]\n",
      " ...\n",
      " [0.         0.03468573 0.         ... 0.         0.         0.04022172]\n",
      " [0.04170523 0.04170523 0.         ... 0.         0.         0.        ]\n",
      " [0.08851724 0.         0.         ... 0.         0.         0.        ]]\n"
     ]
    }
   ],
   "source": [
    "print(DTM_TFIDF)"
   ]
  },
  {
   "cell_type": "code",
   "execution_count": 170,
   "id": "3c02741b-9873-47a5-902f-dfb80469b0c0",
   "metadata": {},
   "outputs": [
    {
     "data": {
      "text/plain": [
       "(13, 822)"
      ]
     },
     "execution_count": 170,
     "metadata": {},
     "output_type": "execute_result"
    }
   ],
   "source": [
    "DTM_TFIDF.shape"
   ]
  },
  {
   "cell_type": "markdown",
   "id": "0dbcdcce-ea8f-44e6-80ec-37c859ea59ad",
   "metadata": {},
   "source": [
    "# 3. KMeans를 알고리즘을 이용한 군집화"
   ]
  },
  {
   "cell_type": "code",
   "execution_count": 277,
   "id": "92ef254e-1f6e-438d-b848-3a86c1eaba4f",
   "metadata": {},
   "outputs": [],
   "source": [
    "import warnings\n",
    "warnings.filterwarnings('ignore')\n",
    "from sklearn.cluster import KMeans\n",
    "from sklearn.decomposition import PCA"
   ]
  },
  {
   "cell_type": "markdown",
   "id": "5e246d32-2101-4e7f-93c6-c1090521b6d9",
   "metadata": {},
   "source": [
    "## 3.1. PCA를 이용한 차원 축소"
   ]
  },
  {
   "cell_type": "code",
   "execution_count": 280,
   "id": "46c0d620-526f-44af-be52-188ed5cb5efb",
   "metadata": {},
   "outputs": [
    {
     "data": {
      "text/plain": [
       "(13, 10)"
      ]
     },
     "execution_count": 280,
     "metadata": {},
     "output_type": "execute_result"
    }
   ],
   "source": [
    "pca = PCA(n_components=10)\n",
    "pca_DTM_TFIDF = pca.fit_transform(DTM_TFIDF)\n",
    "pca_DTM_TFIDF.shape"
   ]
  },
  {
   "cell_type": "markdown",
   "id": "3e64d553-ded8-46aa-a17d-2ab23e5158d0",
   "metadata": {},
   "source": [
    "## 3.2. 실루엣 스코어 확인 및 군집화"
   ]
  },
  {
   "cell_type": "code",
   "execution_count": 283,
   "id": "56943c8c-02af-421e-9b0c-0e061bad0d36",
   "metadata": {},
   "outputs": [
    {
     "name": "stdout",
     "output_type": "stream",
     "text": [
      "n_clusters: 2 | silhouette_score: 0.24796161246594967\n",
      "n_clusters: 3 | silhouette_score: 0.3927266037237627\n",
      "n_clusters: 4 | silhouette_score: 0.519252380588251\n",
      "n_clusters: 5 | silhouette_score: 0.507362969821009\n",
      "n_clusters: 6 | silhouette_score: 0.42882922281234076\n",
      "n_clusters: 7 | silhouette_score: 0.4019078656768383\n",
      "n_clusters: 8 | silhouette_score: 0.3705119604476422\n",
      "n_clusters: 9 | silhouette_score: 0.33593418555486415\n"
     ]
    }
   ],
   "source": [
    "from sklearn.metrics import silhouette_score\n",
    "\n",
    "for i in range(2, 10) :\n",
    "    kmeans = KMeans(n_clusters=i)\n",
    "    clusters_pca_TFIDF = kmeans.fit_predict(pca_DTM_TFIDF)\n",
    "    print(\"n_clusters:\", i, \"|\", \"silhouette_score:\", silhouette_score(pca_DTM_TFIDF, clusters_pca_TFIDF))"
   ]
  },
  {
   "cell_type": "code",
   "execution_count": 284,
   "id": "3a8911be-8aa6-47da-8bfc-0a6bf2a460d7",
   "metadata": {},
   "outputs": [
    {
     "data": {
      "text/plain": [
       "array([0, 0, 0, 3, 3, 3, 3, 1, 1, 1, 2, 2, 2])"
      ]
     },
     "execution_count": 284,
     "metadata": {},
     "output_type": "execute_result"
    }
   ],
   "source": [
    "kmeans = KMeans(n_clusters=4)\n",
    "clusters_pca_TFIDF = kmeans.fit_predict(pca_DTM_TFIDF)\n",
    "clusters_pca_TFIDF"
   ]
  },
  {
   "cell_type": "markdown",
   "id": "4ce1aaef-2cd1-461d-a09c-a58aa4b49395",
   "metadata": {},
   "source": [
    "# 4. 군집화 결과 시각화"
   ]
  },
  {
   "cell_type": "code",
   "execution_count": 286,
   "id": "a333c7d0-e834-4f46-8cc1-f7f9ce881685",
   "metadata": {},
   "outputs": [],
   "source": [
    "import seaborn as sns\n",
    "import matplotlib.pyplot as plt"
   ]
  },
  {
   "cell_type": "code",
   "execution_count": 287,
   "id": "1c09dc95-12fe-4027-9ea2-ae7036ff291e",
   "metadata": {},
   "outputs": [],
   "source": [
    "pca = PCA(n_components=2)\n",
    "pca2_DTM_TFIDF = pca.fit_transform(DTM_TFIDF)\n",
    "clusters_pca2_TFIDF = kmeans.fit_predict(pca2_DTM_TFIDF)"
   ]
  },
  {
   "cell_type": "code",
   "execution_count": 288,
   "id": "9cb3c972-32c5-4d1f-a025-a885220d7638",
   "metadata": {},
   "outputs": [],
   "source": [
    "data1 = pd.DataFrame(pca2_DTM_TFIDF, columns=['x1', 'x2'])\n",
    "data1['cluster_id']=clusters_pca2_TFIDF.tolist()"
   ]
  },
  {
   "cell_type": "code",
   "execution_count": 289,
   "id": "240fff76-98d7-464e-a6b3-be1ae51beba6",
   "metadata": {},
   "outputs": [
    {
     "data": {
      "text/html": [
       "<div>\n",
       "<style scoped>\n",
       "    .dataframe tbody tr th:only-of-type {\n",
       "        vertical-align: middle;\n",
       "    }\n",
       "\n",
       "    .dataframe tbody tr th {\n",
       "        vertical-align: top;\n",
       "    }\n",
       "\n",
       "    .dataframe thead th {\n",
       "        text-align: right;\n",
       "    }\n",
       "</style>\n",
       "<table border=\"1\" class=\"dataframe\">\n",
       "  <thead>\n",
       "    <tr style=\"text-align: right;\">\n",
       "      <th></th>\n",
       "      <th>x1</th>\n",
       "      <th>x2</th>\n",
       "      <th>cluster_id</th>\n",
       "    </tr>\n",
       "  </thead>\n",
       "  <tbody>\n",
       "    <tr>\n",
       "      <th>0</th>\n",
       "      <td>-0.101487</td>\n",
       "      <td>0.068166</td>\n",
       "      <td>3</td>\n",
       "    </tr>\n",
       "    <tr>\n",
       "      <th>1</th>\n",
       "      <td>-0.097285</td>\n",
       "      <td>0.061365</td>\n",
       "      <td>3</td>\n",
       "    </tr>\n",
       "    <tr>\n",
       "      <th>2</th>\n",
       "      <td>-0.112735</td>\n",
       "      <td>0.055151</td>\n",
       "      <td>3</td>\n",
       "    </tr>\n",
       "    <tr>\n",
       "      <th>3</th>\n",
       "      <td>0.692739</td>\n",
       "      <td>-0.145755</td>\n",
       "      <td>0</td>\n",
       "    </tr>\n",
       "    <tr>\n",
       "      <th>4</th>\n",
       "      <td>0.663787</td>\n",
       "      <td>-0.145157</td>\n",
       "      <td>0</td>\n",
       "    </tr>\n",
       "    <tr>\n",
       "      <th>5</th>\n",
       "      <td>0.633567</td>\n",
       "      <td>-0.137976</td>\n",
       "      <td>0</td>\n",
       "    </tr>\n",
       "    <tr>\n",
       "      <th>6</th>\n",
       "      <td>0.576361</td>\n",
       "      <td>-0.135917</td>\n",
       "      <td>0</td>\n",
       "    </tr>\n",
       "    <tr>\n",
       "      <th>7</th>\n",
       "      <td>-0.524302</td>\n",
       "      <td>-0.600631</td>\n",
       "      <td>2</td>\n",
       "    </tr>\n",
       "    <tr>\n",
       "      <th>8</th>\n",
       "      <td>-0.481280</td>\n",
       "      <td>-0.537026</td>\n",
       "      <td>2</td>\n",
       "    </tr>\n",
       "    <tr>\n",
       "      <th>9</th>\n",
       "      <td>-0.528502</td>\n",
       "      <td>-0.601823</td>\n",
       "      <td>2</td>\n",
       "    </tr>\n",
       "    <tr>\n",
       "      <th>10</th>\n",
       "      <td>-0.240179</td>\n",
       "      <td>0.726564</td>\n",
       "      <td>1</td>\n",
       "    </tr>\n",
       "    <tr>\n",
       "      <th>11</th>\n",
       "      <td>-0.241824</td>\n",
       "      <td>0.677286</td>\n",
       "      <td>1</td>\n",
       "    </tr>\n",
       "    <tr>\n",
       "      <th>12</th>\n",
       "      <td>-0.238859</td>\n",
       "      <td>0.715752</td>\n",
       "      <td>1</td>\n",
       "    </tr>\n",
       "  </tbody>\n",
       "</table>\n",
       "</div>"
      ],
      "text/plain": [
       "          x1        x2  cluster_id\n",
       "0  -0.101487  0.068166           3\n",
       "1  -0.097285  0.061365           3\n",
       "2  -0.112735  0.055151           3\n",
       "3   0.692739 -0.145755           0\n",
       "4   0.663787 -0.145157           0\n",
       "5   0.633567 -0.137976           0\n",
       "6   0.576361 -0.135917           0\n",
       "7  -0.524302 -0.600631           2\n",
       "8  -0.481280 -0.537026           2\n",
       "9  -0.528502 -0.601823           2\n",
       "10 -0.240179  0.726564           1\n",
       "11 -0.241824  0.677286           1\n",
       "12 -0.238859  0.715752           1"
      ]
     },
     "execution_count": 289,
     "metadata": {},
     "output_type": "execute_result"
    }
   ],
   "source": [
    "data1"
   ]
  },
  {
   "cell_type": "code",
   "execution_count": 290,
   "id": "b9674719-e866-43a9-b022-89df24f8a421",
   "metadata": {},
   "outputs": [
    {
     "data": {
      "image/png": "[encoded data removed]",
      "text/plain": [
       "<Figure size 577.986x500 with 1 Axes>"
      ]
     },
     "metadata": {},
     "output_type": "display_data"
    }
   ],
   "source": [
    "sns.lmplot(x='x1', y='x2', data=data1, hue='cluster_id',fit_reg=False )\n",
    "plt.show()"
   ]
  }
 ],
 "metadata": {
  "kernelspec": {
   "display_name": "Python 3 (ipykernel)",
   "language": "python",
   "name": "python3"
  },
  "language_info": {
   "codemirror_mode": {
    "name": "ipython",
    "version": 3
   },
   "file_extension": ".py",
   "mimetype": "text/x-python",
   "name": "python",
   "nbconvert_exporter": "python",
   "pygments_lexer": "ipython3",
   "version": "3.12.4"
  }
 },
 "nbformat": 4,
 "nbformat_minor": 5
}
