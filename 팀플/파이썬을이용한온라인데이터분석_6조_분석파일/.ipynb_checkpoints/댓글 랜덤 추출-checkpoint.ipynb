{
 "cells": [
  {
   "cell_type": "code",
   "execution_count": 1,
   "id": "e3e563c5-9076-44fa-87cb-631981e25858",
   "metadata": {},
   "outputs": [
    {
     "name": "stdout",
     "output_type": "stream",
     "text": [
      "총 30000개의 댓글이 'ysy_youtube_comments.txt'에 저장되었습니다.\n"
     ]
    }
   ],
   "source": [
    "#1. 윤석열\n",
    "import random\n",
    "\n",
    "# 원본 텍스트 파일 경로들\n",
    "input_files = [\"chosun_ysy_youtube_comments.txt\", \"yonhap_ysy_youtube_comments.txt\", \"mbc_ysy_youtube_comments.txt\"]  # 각 파일의 경로\n",
    "output_file_path = \"ysy_youtube_comments.txt\"  # 최종 저장 파일 경로\n",
    "\n",
    "# 각 파일에서 추출할 댓글 수\n",
    "sample_size_per_file = 10000\n",
    "\n",
    "# 최종 샘플을 저장할 리스트\n",
    "final_sampled_comments = []\n",
    "\n",
    "for file_path in input_files:\n",
    "    # 각 파일 읽기\n",
    "    with open(file_path, \"r\", encoding=\"utf-8\") as file:\n",
    "        comments = file.readlines()\n",
    "\n",
    "    # 파일의 댓글 수 확인\n",
    "    if len(comments) < sample_size_per_file:\n",
    "        raise ValueError(f\"{file_path}의 댓글 수가 {sample_size_per_file}보다 적습니다. 댓글 수: {len(comments)}\")\n",
    "\n",
    "    # 랜덤 샘플링\n",
    "    sampled_comments = random.sample(comments, sample_size_per_file)\n",
    "    final_sampled_comments.extend(sampled_comments)  # 최종 리스트에 추가\n",
    "\n",
    "# 최종 샘플링된 댓글 저장\n",
    "with open(output_file_path, \"w\", encoding=\"utf-8\") as file:\n",
    "    file.writelines(final_sampled_comments)\n",
    "\n",
    "print(f\"총 {len(final_sampled_comments)}개의 댓글이 '{output_file_path}'에 저장되었습니다.\")\n"
   ]
  },
  {
   "cell_type": "code",
   "execution_count": null,
   "id": "e0abd475-d75f-48d0-8b92-10f60b35cc63",
   "metadata": {},
   "outputs": [],
   "source": [
    "#2. 이재명\n",
    "# 원본 텍스트 파일 경로들\n",
    "input_files = [\"chosun_ljm_youtube_comments.txt\", \"yonhap_ljm_youtube_comments.txt\", \"mbc_ljm_youtube_comments.txt\"]  # 각 파일의 경로\n",
    "output_file_path = \"ljm_youtube_comments.txt\"  # 최종 저장 파일 경로\n",
    "\n",
    "# 각 파일에서 추출할 댓글 수\n",
    "sample_size_per_file = 10000\n",
    "\n",
    "# 최종 샘플을 저장할 리스트\n",
    "final_sampled_comments = []\n",
    "\n",
    "for file_path in input_files:\n",
    "    # 각 파일 읽기\n",
    "    with open(file_path, \"r\", encoding=\"utf-8\") as file:\n",
    "        comments = file.readlines()\n",
    "\n",
    "    # 파일의 댓글 수 확인\n",
    "    if len(comments) < sample_size_per_file:\n",
    "        raise ValueError(f\"{file_path}의 댓글 수가 {sample_size_per_file}보다 적습니다. 댓글 수: {len(comments)}\")\n",
    "\n",
    "    # 랜덤 샘플링\n",
    "    sampled_comments = random.sample(comments, sample_size_per_file)\n",
    "    final_sampled_comments.extend(sampled_comments)  # 최종 리스트에 추가\n",
    "\n",
    "# 최종 샘플링된 댓글 저장\n",
    "with open(output_file_path, \"w\", encoding=\"utf-8\") as file:\n",
    "    file.writelines(final_sampled_comments)\n",
    "\n",
    "print(f\"총 {len(final_sampled_comments)}개의 댓글이 '{output_file_path}'에 저장되었습니다.\")\n"
   ]
  }
 ],
 "metadata": {
  "kernelspec": {
   "display_name": "Python 3 (ipykernel)",
   "language": "python",
   "name": "python3"
  },
  "language_info": {
   "codemirror_mode": {
    "name": "ipython",
    "version": 3
   },
   "file_extension": ".py",
   "mimetype": "text/x-python",
   "name": "python",
   "nbconvert_exporter": "python",
   "pygments_lexer": "ipython3",
   "version": "3.12.4"
  }
 },
 "nbformat": 4,
 "nbformat_minor": 5
}
