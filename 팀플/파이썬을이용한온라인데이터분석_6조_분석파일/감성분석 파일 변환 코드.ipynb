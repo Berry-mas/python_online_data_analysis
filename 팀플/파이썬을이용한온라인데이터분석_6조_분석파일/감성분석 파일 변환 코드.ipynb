{
 "cells": [
  {
   "cell_type": "code",
   "execution_count": 3,
   "id": "54dccaa5-ddcf-4b13-867f-31a641e38f98",
   "metadata": {},
   "outputs": [
    {
     "name": "stdout",
     "output_type": "stream",
     "text": [
      "긍정 단어가 positive_words.txt에 저장되었습니다.\n",
      "부정 단어가 negative_words.txt에 저장되었습니다.\n"
     ]
    }
   ],
   "source": [
    "import json\n",
    "\n",
    "def json_to_txt(json_file, pos_file, neg_file):\n",
    "    \"\"\"\n",
    "    JSON 데이터를 읽어 'word'와 'polarity'를 기반으로 긍정/부정 단어 텍스트 파일로 변환하는 함수.\n",
    "\n",
    "    Args:\n",
    "        json_file (str): JSON 파일 경로\n",
    "        pos_file (str): 긍정 단어를 저장할 텍스트 파일 경로\n",
    "        neg_file (str): 부정 단어를 저장할 텍스트 파일 경로\n",
    "    \"\"\"\n",
    "    try:\n",
    "        with open(json_file, 'r', encoding='utf-8') as f:\n",
    "            data = json.load(f)\n",
    "\n",
    "        positive_words = []\n",
    "        negative_words = []\n",
    "\n",
    "        # JSON 데이터에서 긍정 및 부정 단어 분리\n",
    "        for entry in data:\n",
    "            word = entry.get('word')\n",
    "            polarity = int(entry.get('polarity', 0))  # polarity 값을 가져오며, 기본값은 0\n",
    "            \n",
    "            if polarity > 0:\n",
    "                positive_words.append(word)\n",
    "            elif polarity < 0:\n",
    "                negative_words.append(word)\n",
    "\n",
    "        # 긍정 단어 저장\n",
    "        with open(pos_file, 'w', encoding='utf-8') as f:\n",
    "            for word in positive_words:\n",
    "                f.write(word + '\\n')\n",
    "\n",
    "        # 부정 단어 저장\n",
    "        with open(neg_file, 'w', encoding='utf-8') as f:\n",
    "            for word in negative_words:\n",
    "                f.write(word + '\\n')\n",
    "\n",
    "        print(f\"긍정 단어가 {pos_file}에 저장되었습니다.\")\n",
    "        print(f\"부정 단어가 {neg_file}에 저장되었습니다.\")\n",
    "    \n",
    "    except Exception as e:\n",
    "        print(f\"오류 발생: {e}\")\n",
    "\n",
    "# 경로 설정\n",
    "json_file = 'SentiWord_info.json'   # JSON 파일 경로\n",
    "pos_file = 'positive_words.txt'     # 긍정 단어 저장 파일\n",
    "neg_file = 'negative_words.txt'     # 부정 단어 저장 파일\n",
    "\n",
    "# 함수 실행\n",
    "json_to_txt(json_file, pos_file, neg_file)\n"
   ]
  }
 ],
 "metadata": {
  "kernelspec": {
   "display_name": "Python 3 (ipykernel)",
   "language": "python",
   "name": "python3"
  },
  "language_info": {
   "codemirror_mode": {
    "name": "ipython",
    "version": 3
   },
   "file_extension": ".py",
   "mimetype": "text/x-python",
   "name": "python",
   "nbconvert_exporter": "python",
   "pygments_lexer": "ipython3",
   "version": "3.12.7"
  }
 },
 "nbformat": 4,
 "nbformat_minor": 5
}
