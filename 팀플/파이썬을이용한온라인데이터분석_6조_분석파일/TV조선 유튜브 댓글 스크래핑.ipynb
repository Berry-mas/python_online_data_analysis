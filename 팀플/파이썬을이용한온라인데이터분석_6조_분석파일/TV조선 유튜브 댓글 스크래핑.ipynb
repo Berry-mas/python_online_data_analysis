{
 "cells": [
  {
   "cell_type": "markdown",
   "id": "5c66dc92-e48e-46c4-b56b-45cdb673ed05",
   "metadata": {},
   "source": [
    "# 1. 윤석열"
   ]
  },
  {
   "cell_type": "code",
   "execution_count": 1,
   "id": "1ceb380a-b197-4c00-9c3a-55042b9a01e7",
   "metadata": {},
   "outputs": [
    {
     "name": "stdout",
     "output_type": "stream",
     "text": [
      "모든 URL의 댓글이 yonhap_ysy_youtube_comments2.txt 파일에 저장되었습니다.\n"
     ]
    }
   ],
   "source": [
    "from concurrent.futures import ThreadPoolExecutor\n",
    "import os\n",
    "import json\n",
    "import pandas as pd\n",
    "\n",
    "# '링크' 열에 유튜브 URL이 저장된 CSV 파일 경로\n",
    "input_csv_file = '윤석열_TV조선_유튜브목록.csv'\n",
    "output_text_file = 'chosun_ysy_youtube_comments.txt'\n",
    "\n",
    "# CSV 파일 읽기\n",
    "df_urls = pd.read_csv(input_csv_file)\n",
    "urls = df_urls['링크'].dropna().tolist()\n",
    "\n",
    "# 댓글 저장 함수\n",
    "def process_url(i, url):\n",
    "    json_file = f'YoutubeComments_{i}.json'\n",
    "    os.system(f\"youtube-comment-downloader --url {url} --output {json_file}\")\n",
    "\n",
    "    comments = []\n",
    "    with open(json_file, 'r', encoding='utf-8') as f:\n",
    "        for line in f:\n",
    "            comment_data = json.loads(line)\n",
    "            comment = comment_data.get('text', '').strip()\n",
    "            comments.append(comment)\n",
    "\n",
    "    os.remove(json_file)\n",
    "    return comments\n",
    "\n",
    "# 텍스트 파일 초기화\n",
    "open(output_text_file, 'w').close()\n",
    "\n",
    "# 병렬 처리\n",
    "with ThreadPoolExecutor(max_workers=5) as executor:  # 최대 5개의 스레드 사용\n",
    "    futures = [executor.submit(process_url, i, url) for i, url in enumerate(urls)]\n",
    "\n",
    "    with open(output_text_file, 'a', encoding='utf-8') as text_file:\n",
    "        for future in futures:\n",
    "            try:\n",
    "                comments = future.result()\n",
    "                for comment in comments:\n",
    "                    text_file.write(f\"{comment}\\n\")\n",
    "            except Exception as e:\n",
    "                print(f\"오류 발생: {e}\")\n",
    "\n",
    "print(f\"모든 URL의 댓글이 {output_text_file} 파일에 저장되었습니다.\")\n"
   ]
  },
  {
   "cell_type": "markdown",
   "id": "5adca7b2-c3ac-445d-8312-ba86bc5ed6f8",
   "metadata": {},
   "source": [
    "# 2. 이재명"
   ]
  },
  {
   "cell_type": "code",
   "execution_count": 2,
   "id": "aacae848-6c61-4b1a-8fba-733b642f95f1",
   "metadata": {},
   "outputs": [
    {
     "name": "stdout",
     "output_type": "stream",
     "text": [
      "모든 URL의 댓글이 chosun_jlm_youtube_comments.txt 파일에 저장되었습니다.\n"
     ]
    }
   ],
   "source": [
    "from concurrent.futures import ThreadPoolExecutor\n",
    "import os\n",
    "import json\n",
    "import pandas as pd\n",
    "\n",
    "# '링크' 열에 유튜브 URL이 저장된 CSV 파일 경로\n",
    "input_csv_file = '이재명_TV조선_유튜브목록.csv'\n",
    "output_text_file = 'chosun_jlm_youtube_comments.txt'\n",
    "\n",
    "# CSV 파일 읽기\n",
    "df_urls = pd.read_csv(input_csv_file)\n",
    "urls = df_urls['링크'].dropna().tolist()\n",
    "\n",
    "# 댓글 저장 함수\n",
    "def process_url(i, url):\n",
    "    json_file = f'YoutubeComments_{i}.json'\n",
    "    os.system(f\"youtube-comment-downloader --url {url} --output {json_file}\")\n",
    "\n",
    "    comments = []\n",
    "    with open(json_file, 'r', encoding='utf-8') as f:\n",
    "        for line in f:\n",
    "            comment_data = json.loads(line)\n",
    "            comment = comment_data.get('text', '').strip()\n",
    "            comments.append(comment)\n",
    "\n",
    "    os.remove(json_file)\n",
    "    return comments\n",
    "\n",
    "# 텍스트 파일 초기화\n",
    "open(output_text_file, 'w').close()\n",
    "\n",
    "# 병렬 처리\n",
    "with ThreadPoolExecutor(max_workers=5) as executor:  # 최대 5개의 스레드 사용\n",
    "    futures = [executor.submit(process_url, i, url) for i, url in enumerate(urls)]\n",
    "\n",
    "    with open(output_text_file, 'a', encoding='utf-8') as text_file:\n",
    "        for future in futures:\n",
    "            try:\n",
    "                comments = future.result()\n",
    "                for comment in comments:\n",
    "                    text_file.write(f\"{comment}\\n\")\n",
    "            except Exception as e:\n",
    "                print(f\"오류 발생: {e}\")\n",
    "\n",
    "print(f\"모든 URL의 댓글이 {output_text_file} 파일에 저장되었습니다.\")\n"
   ]
  }
 ],
 "metadata": {
  "kernelspec": {
   "display_name": "Python 3 (ipykernel)",
   "language": "python",
   "name": "python3"
  },
  "language_info": {
   "codemirror_mode": {
    "name": "ipython",
    "version": 3
   },
   "file_extension": ".py",
   "mimetype": "text/x-python",
   "name": "python",
   "nbconvert_exporter": "python",
   "pygments_lexer": "ipython3",
   "version": "3.12.7"
  }
 },
 "nbformat": 4,
 "nbformat_minor": 5
}
