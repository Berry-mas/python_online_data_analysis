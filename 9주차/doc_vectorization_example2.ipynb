{
 "cells": [
  {
   "cell_type": "code",
   "execution_count": 1,
   "metadata": {},
   "outputs": [],
   "source": [
    "from os import listdir\n",
    "from os.path import isfile, join\n",
    "\n",
    "mypath = './docs/' #문서들이 저장되어 있는 폴더 경로\n",
    "onlyfiles = [f for f in listdir(mypath) if isfile(join(mypath, f))]\n",
    "onlyfiles.sort()"
   ]
  },
  {
   "cell_type": "code",
   "execution_count": 2,
   "metadata": {},
   "outputs": [
    {
     "data": {
      "text/plain": [
       "['apple_iphone1.txt',\n",
       " 'apple_iphone2.txt',\n",
       " 'kevin_durant1.txt',\n",
       " 'serena_williams1.txt']"
      ]
     },
     "execution_count": 2,
     "metadata": {},
     "output_type": "execute_result"
    }
   ],
   "source": [
    "onlyfiles"
   ]
  },
  {
   "cell_type": "code",
   "execution_count": 3,
   "metadata": {},
   "outputs": [],
   "source": [
    "# 각 파일의 내용 읽어오기\n",
    "total_docs = []\n",
    "for file in onlyfiles:\n",
    "    file_path = mypath+file\n",
    "    with open(file_path, 'r', encoding='utf8') as f:\n",
    "        content = f.read()\n",
    "    total_docs.append(content)"
   ]
  },
  {
   "cell_type": "code",
   "execution_count": 4,
   "metadata": {},
   "outputs": [
    {
     "data": {
      "text/plain": [
       "4"
      ]
     },
     "execution_count": 4,
     "metadata": {},
     "output_type": "execute_result"
    }
   ],
   "source": [
    "len(total_docs)"
   ]
  },
  {
   "cell_type": "code",
   "execution_count": 5,
   "metadata": {
    "scrolled": true
   },
   "outputs": [
    {
     "data": {
      "text/plain": [
       "'Smartphones are by our sides, on our desks, in our pockets and bags all day long. We use them for hours every day (as the latest software on iPhone and Android phones reveals in all-too-clear detail).\\nSo, it’s no surprise that battery anxiety, that great malady of the twenty-first century, is more perniciously present than ever.\\n\\nThe latest iPhones, I’d venture, have great battery life. I favor the iPhone XS Max and, as I’ve mentioned before, I’ve never had an issue with the battery running out, nor with the iPhone XR which, after all, has the largest battery of any iPhone. But how about the iPhone XS, the smallest-screened of the 2018 iPhones? Again, I haven’t had an issue except on those extra-long days, like flying west from London to California, for instance. On those 32-hour days caused by the time difference, the iPhone XS has struggled.\\nSo, that was the Smart Battery Case I plumped for, to see if it could banish battery anxiety altogether. The essentials of this review apply to the iPhone XS Max and iPhone XR as well, but it was the iPhone XS I tested.\\nHow does it fit?\\n\\nYou can tell from the moment you open the packaging, with the back plate holding the case in place, that this is a product where attention to detail is everything. It is beautifully crafted from premium materials.\\nTo wrap it around the iPhone XS you bend the upper part of the case back to 45 degrees. Once you’ve done that, you can slide the iPhone in from the top of the case along the microfibre lining. It fits smoothly on to the internal Lightning connector at the base of the case.\\nHow does it look and feel?\\n\\nIt’s big. It makes a slim, lightweight phone heavier and considerably thicker. But that may be a worthwhile trade for the peace of mind of knowing your phone won’t run out of juice.\\n\\nThe design here is different from previous Apple smart battery cases. They have a battery bulge in the middle of the back. Here, it stretches right down the back from just below the camera unit to the bottom. This means there’s a lot more battery on board, but it feels very different in the hand. It will no longer slide into a trouser pocket, for instance.\\n\\nThe silicone back is smooth and tactile. This feels good to the touch and is entirely non-slip – unlike most smartphones out there today which can slide off even the flattest surface, no matter how carefully you put them down, the instant your back is turned.\\n\\nOr is that just me?\\n\\nIt’s also, no surprise here, a perfect fit. Every button clicks with the same pressure as the phone when it’s naked. The switch to enable and disable the phone’s ringtone and turn it to silent is reachable – though you’ll need a fingernail to flip it on and off easily.\\n\\nAnd the holes drilled in the bottom edge are, of course, a flawless match for the two grilles on the base of the iPhone.'"
      ]
     },
     "execution_count": 5,
     "metadata": {},
     "output_type": "execute_result"
    }
   ],
   "source": [
    "total_docs[0]"
   ]
  },
  {
   "cell_type": "markdown",
   "metadata": {},
   "source": [
    "### 전처리 수행하기"
   ]
  },
  {
   "cell_type": "code",
   "execution_count": 6,
   "metadata": {},
   "outputs": [],
   "source": [
    "import re\n",
    "import nltk\n",
    "from nltk.corpus import stopwords\n",
    "\n",
    "# 전처리를 위한 사용자 정의 함수\n",
    "def do_En_preprocessing(text, customized_stopwords):\n",
    "    cleaned_content = re.sub(r'[^\\w\\d\\s]','',text) # To remove symbols\n",
    "    cleaned_content = cleaned_content.lower() # Case conversion, upper -> lower\n",
    "    word_tokens = nltk.word_tokenize(cleaned_content) # Tokenization\n",
    "    tokens_pos = nltk.pos_tag(word_tokens) # POS tagging\n",
    "    NN_words = []   # To select nouns\n",
    "    for word, pos in tokens_pos:\n",
    "        if 'NN' in pos:\n",
    "            NN_words.append(word)\n",
    "            \n",
    "    wlem = nltk.WordNetLemmatizer()   # Lemmatization\n",
    "    lemmatized_words = []\n",
    "    for word in NN_words:\n",
    "        lemmatized_words.append(wlem.lemmatize(word))\n",
    "    # 불용어 제거    \n",
    "    stopwords_list = stopwords.words('english')\n",
    "    unique_NN_words = set(lemmatized_words)\n",
    "    final_NN_words = lemmatized_words\n",
    "    for word in unique_NN_words:\n",
    "        if word in stopwords_list:\n",
    "            while word in final_NN_words: \n",
    "                final_NN_words.remove(word)\n",
    "    \n",
    "    unique_NN_words1 = set(final_NN_words)\n",
    "    for word in unique_NN_words1:\n",
    "        if word in customized_stopwords:\n",
    "            while word in final_NN_words: \n",
    "                final_NN_words.remove(word)\n",
    "    \n",
    "    return final_NN_words"
   ]
  },
  {
   "cell_type": "code",
   "execution_count": 7,
   "metadata": {},
   "outputs": [],
   "source": [
    "customized_stopwords = ['today', 'yesterday', 'new', 'york', 'time'] # 불용어 사전 생성하기"
   ]
  },
  {
   "cell_type": "code",
   "execution_count": 8,
   "metadata": {},
   "outputs": [],
   "source": [
    "docs_nouns = [do_En_preprocessing(doc, customized_stopwords) for doc in total_docs]"
   ]
  },
  {
   "cell_type": "code",
   "execution_count": 9,
   "metadata": {},
   "outputs": [
    {
     "data": {
      "text/plain": [
       "4"
      ]
     },
     "execution_count": 9,
     "metadata": {},
     "output_type": "execute_result"
    }
   ],
   "source": [
    "len(docs_nouns)"
   ]
  },
  {
   "cell_type": "code",
   "execution_count": 10,
   "metadata": {},
   "outputs": [
    {
     "name": "stdout",
     "output_type": "stream",
     "text": [
      "['smartphones', 'side', 'desk', 'pocket', 'bag', 'day', 'hour', 'day', 'software', 'iphone', 'phone', 'reveals', 'detail', 'surprise', 'battery', 'anxiety', 'malady', 'century', 'iphones', 'venture', 'battery', 'life', 'iphone', 'x', 'max', 'issue', 'battery', 'iphone', 'xr', 'battery', 'iphone', 'iphone', 'iphones', 'havent', 'issue', 'day', 'london', 'instance', 'day', 'difference', 'iphone', 'x', 'battery', 'case', 'battery', 'anxiety', 'essential', 'review', 'iphone', 'x', 'max', 'iphone', 'xr', 'iphone', 'x', 'moment', 'packaging', 'plate', 'case', 'place', 'product', 'attention', 'everything', 'material', 'iphone', 'x', 'part', 'case', 'degree', 'iphone', 'top', 'case', 'microfibre', 'lightning', 'connector', 'base', 'case', 'lightweight', 'phone', 'thicker', 'trade', 'peace', 'mind', 'phone', 'wont', 'juice', 'design', 'apple', 'battery', 'case', 'battery', 'bulge', 'middle', 'back', 'back', 'camera', 'unit', 'bottom', 'lot', 'battery', 'board', 'hand', 'trouser', 'pocket', 'instance', 'silicone', 'feel', 'touch', 'smartphones', 'surface', 'matter', 'back', 'surprise', 'fit', 'button', 'pressure', 'phone', 'switch', 'phone', 'ringtone', 'fingernail', 'hole', 'bottom', 'edge', 'course', 'match', 'grille', 'base', 'iphone']\n"
     ]
    }
   ],
   "source": [
    "print(docs_nouns[0])"
   ]
  },
  {
   "cell_type": "code",
   "execution_count": 11,
   "metadata": {},
   "outputs": [],
   "source": [
    "import numpy as np\n",
    "from sklearn.feature_extraction.text import CountVectorizer\n",
    "from sklearn.feature_extraction.text import TfidfVectorizer"
   ]
  },
  {
   "cell_type": "code",
   "execution_count": 12,
   "metadata": {},
   "outputs": [],
   "source": [
    "documents_filtered = []\n",
    "for doc in docs_nouns:\n",
    "    document_filtered =' '.join(doc)\n",
    "    documents_filtered.append(document_filtered) # list of docs, doc 은 단어들로 구성이 된 string data\n",
    "# 불필요한 단어들을 제거하고 난후 DTM로 변환하기 위해 다시 list of strings의 형태로 변환"
   ]
  },
  {
   "cell_type": "code",
   "execution_count": 13,
   "metadata": {},
   "outputs": [
    {
     "data": {
      "text/plain": [
       "'smartphones side desk pocket bag day hour day software iphone phone reveals detail surprise battery anxiety malady century iphones venture battery life iphone x max issue battery iphone xr battery iphone iphone iphones havent issue day london instance day difference iphone x battery case battery anxiety essential review iphone x max iphone xr iphone x moment packaging plate case place product attention everything material iphone x part case degree iphone top case microfibre lightning connector base case lightweight phone thicker trade peace mind phone wont juice design apple battery case battery bulge middle back back camera unit bottom lot battery board hand trouser pocket instance silicone feel touch smartphones surface matter back surprise fit button pressure phone switch phone ringtone fingernail hole bottom edge course match grille base iphone'"
      ]
     },
     "execution_count": 13,
     "metadata": {},
     "output_type": "execute_result"
    }
   ],
   "source": [
    "documents_filtered[0]"
   ]
  },
  {
   "cell_type": "code",
   "execution_count": 14,
   "metadata": {},
   "outputs": [],
   "source": [
    "tf_vectorizer = CountVectorizer(min_df=1, max_df=0.8, ngram_range=(1,1))\n",
    "DTM_tf = tf_vectorizer.fit_transform(documents_filtered)"
   ]
  },
  {
   "cell_type": "code",
   "execution_count": 15,
   "metadata": {},
   "outputs": [],
   "source": [
    "DTM_TF = np.array(DTM_tf.todense())"
   ]
  },
  {
   "cell_type": "code",
   "execution_count": 16,
   "metadata": {},
   "outputs": [
    {
     "data": {
      "text/plain": [
       "array([[0, 0, 0, ..., 0, 0, 0],\n",
       "       [0, 0, 0, ..., 2, 0, 1],\n",
       "       [0, 2, 1, ..., 1, 1, 0],\n",
       "       [1, 0, 0, ..., 1, 0, 0]], dtype=int64)"
      ]
     },
     "execution_count": 16,
     "metadata": {},
     "output_type": "execute_result"
    }
   ],
   "source": [
    "DTM_TF"
   ]
  },
  {
   "cell_type": "code",
   "execution_count": 17,
   "metadata": {},
   "outputs": [
    {
     "data": {
      "text/plain": [
       "(4, 285)"
      ]
     },
     "execution_count": 17,
     "metadata": {},
     "output_type": "execute_result"
    }
   ],
   "source": [
    "DTM_TF.shape"
   ]
  },
  {
   "cell_type": "code",
   "execution_count": 18,
   "metadata": {},
   "outputs": [
    {
     "data": {
      "text/plain": [
       "array([ 0,  0,  0,  0,  0,  0,  0,  2,  0,  0,  1,  0,  0,  1,  0,  3,  1,\n",
       "        2,  0,  0,  0,  9,  0,  0,  1,  0,  2,  0,  1,  1,  0,  0,  1,  0,\n",
       "        0,  0,  0,  6,  0,  0,  1,  0,  0,  0,  0,  0,  0,  0,  0,  0,  0,\n",
       "        0,  0,  0,  0,  1,  1,  0,  0,  0,  0,  4,  0,  1,  0,  1,  1,  1,\n",
       "        0,  1,  0,  0,  1,  0,  1,  1,  0,  0,  0,  1,  0,  1,  1,  0,  0,\n",
       "        0,  0,  0,  0,  0,  0,  0,  1,  0,  0,  1,  0,  1,  0,  0,  1,  0,\n",
       "        1,  0,  0,  0,  2,  0, 12,  2,  2,  0,  1,  0,  0,  0,  0,  0,  0,\n",
       "        0,  0,  0,  0,  0,  1,  1,  1,  0,  1,  0,  0,  0,  1,  0,  1,  0,\n",
       "        0,  0,  1,  1,  1,  0,  2,  0,  0,  1,  1,  0,  1,  0,  1,  0,  0,\n",
       "        0,  0,  0,  0,  0,  0,  0,  0,  0,  0,  0,  0,  1,  0,  1,  0,  0,\n",
       "        1,  0,  0,  0,  0,  0,  5,  0,  0,  1,  1,  0,  2,  0,  0,  0,  0,\n",
       "        0,  0,  1,  0,  0,  0,  1,  0,  0,  0,  0,  0,  0,  0,  0,  0,  0,\n",
       "        1,  0,  1,  0,  1,  0,  0,  0,  0,  0,  0,  0,  0,  0,  0,  0,  0,\n",
       "        0,  0,  0,  1,  0,  1,  0,  0,  0,  0,  2,  1,  0,  0,  0,  0,  0,\n",
       "        0,  0,  0,  0,  0,  0,  1,  2,  1,  0,  0,  0,  1,  0,  0,  0,  0,\n",
       "        1,  1,  0,  0,  1,  0,  0,  1,  0,  1,  0,  1,  0,  0,  0,  0,  0,\n",
       "        0,  0,  0,  0,  0,  0,  0,  0,  1,  2,  0,  0,  0], dtype=int64)"
      ]
     },
     "execution_count": 18,
     "metadata": {},
     "output_type": "execute_result"
    }
   ],
   "source": [
    "DTM_TF[0]"
   ]
  },
  {
   "cell_type": "code",
   "execution_count": 18,
   "metadata": {},
   "outputs": [
    {
     "data": {
      "text/plain": [
       "23.895606290697042"
      ]
     },
     "execution_count": 18,
     "metadata": {},
     "output_type": "execute_result"
    }
   ],
   "source": [
    "np.linalg.norm(DTM_TF[1]-DTM_TF[0])"
   ]
  },
  {
   "cell_type": "code",
   "execution_count": 19,
   "metadata": {},
   "outputs": [
    {
     "data": {
      "text/plain": [
       "24.919871588754223"
      ]
     },
     "execution_count": 19,
     "metadata": {},
     "output_type": "execute_result"
    }
   ],
   "source": [
    "np.linalg.norm(DTM_TF[2]-DTM_TF[0]) "
   ]
  },
  {
   "cell_type": "code",
   "execution_count": 20,
   "metadata": {},
   "outputs": [
    {
     "data": {
      "text/plain": [
       "25.826343140289914"
      ]
     },
     "execution_count": 20,
     "metadata": {},
     "output_type": "execute_result"
    }
   ],
   "source": [
    "np.linalg.norm(DTM_TF[3]-DTM_TF[0])"
   ]
  },
  {
   "cell_type": "code",
   "execution_count": 21,
   "metadata": {},
   "outputs": [
    {
     "name": "stdout",
     "output_type": "stream",
     "text": [
      "0.5959464513198515\n"
     ]
    }
   ],
   "source": [
    "print(np.dot(DTM_TF[0],DTM_TF[1])/(np.linalg.norm(DTM_TF[0])*np.linalg.norm(DTM_TF[1])))"
   ]
  },
  {
   "cell_type": "code",
   "execution_count": 22,
   "metadata": {},
   "outputs": [
    {
     "name": "stdout",
     "output_type": "stream",
     "text": [
      "0.010149858103156184\n"
     ]
    }
   ],
   "source": [
    "print(np.dot(DTM_TF[0],DTM_TF[2])/(np.linalg.norm(DTM_TF[0])*np.linalg.norm(DTM_TF[2])))"
   ]
  },
  {
   "cell_type": "code",
   "execution_count": 23,
   "metadata": {},
   "outputs": [
    {
     "name": "stdout",
     "output_type": "stream",
     "text": [
      "0.021112128709387182\n"
     ]
    }
   ],
   "source": [
    "print(np.dot(DTM_TF[0],DTM_TF[3])/(np.linalg.norm(DTM_TF[0])*np.linalg.norm(DTM_TF[3])))"
   ]
  },
  {
   "cell_type": "code",
   "execution_count": 16,
   "metadata": {},
   "outputs": [],
   "source": [
    "tfidf_vectorizer = TfidfVectorizer(min_df=1, max_df=0.8, ngram_range=(1,1))\n",
    "DTM_tfidf = tfidf_vectorizer.fit_transform(documents_filtered)"
   ]
  },
  {
   "cell_type": "code",
   "execution_count": 17,
   "metadata": {},
   "outputs": [],
   "source": [
    "DTM_TFIDF = np.array(DTM_tfidf.todense())"
   ]
  },
  {
   "cell_type": "code",
   "execution_count": 18,
   "metadata": {},
   "outputs": [
    {
     "name": "stdout",
     "output_type": "stream",
     "text": [
      "0.9538556951497862\n",
      "1.409374356422095\n",
      "1.4028109418615884\n"
     ]
    }
   ],
   "source": [
    "print(np.linalg.norm(DTM_TFIDF[1]-DTM_TFIDF[0]))\n",
    "print(np.linalg.norm(DTM_TFIDF[2]-DTM_TFIDF[0]))\n",
    "print(np.linalg.norm(DTM_TFIDF[3]-DTM_TFIDF[0]))"
   ]
  },
  {
   "cell_type": "code",
   "execution_count": 19,
   "metadata": {},
   "outputs": [
    {
     "name": "stdout",
     "output_type": "stream",
     "text": [
      "0.5450796564151593\n",
      "0.006831961729902576\n",
      "0.01606073069670202\n"
     ]
    }
   ],
   "source": [
    "print(np.dot(DTM_TFIDF[0],DTM_TFIDF[1])/(np.linalg.norm(DTM_TFIDF[0])*np.linalg.norm(DTM_TFIDF[1])))\n",
    "print(np.dot(DTM_TFIDF[0],DTM_TFIDF[2])/(np.linalg.norm(DTM_TFIDF[0])*np.linalg.norm(DTM_TFIDF[2])))\n",
    "print(np.dot(DTM_TFIDF[0],DTM_TFIDF[3])/(np.linalg.norm(DTM_TFIDF[0])*np.linalg.norm(DTM_TFIDF[3])))"
   ]
  },
  {
   "cell_type": "code",
   "execution_count": null,
   "metadata": {},
   "outputs": [],
   "source": []
  }
 ],
 "metadata": {
  "kernelspec": {
   "display_name": "Python 3 (ipykernel)",
   "language": "python",
   "name": "python3"
  },
  "language_info": {
   "codemirror_mode": {
    "name": "ipython",
    "version": 3
   },
   "file_extension": ".py",
   "mimetype": "text/x-python",
   "name": "python",
   "nbconvert_exporter": "python",
   "pygments_lexer": "ipython3",
   "version": "3.11.7"
  }
 },
 "nbformat": 4,
 "nbformat_minor": 4
}
